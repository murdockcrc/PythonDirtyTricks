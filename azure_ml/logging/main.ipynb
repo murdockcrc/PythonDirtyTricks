{
 "metadata": {
  "language_info": {
   "codemirror_mode": {
    "name": "ipython",
    "version": 3
   },
   "file_extension": ".py",
   "mimetype": "text/x-python",
   "name": "python",
   "nbconvert_exporter": "python",
   "pygments_lexer": "ipython3",
   "version": "3.8.8"
  },
  "orig_nbformat": 2,
  "kernelspec": {
   "name": "python388jvsc74a57bd0777fcbdb0f3a4180a779d07ed9c4a2ad1dc09af97073e353d299bd183b95db10",
   "display_name": "Python 3.8.8 64-bit ('azureml_logging': conda)"
  }
 },
 "nbformat": 4,
 "nbformat_minor": 2,
 "cells": [
  {
   "source": [
    "# Logging with App Insights\n",
    "\n",
    "See [HERE](https://docs.microsoft.com/en-us/azure/machine-learning/how-to-log-pipelines-application-insights)"
   ],
   "cell_type": "markdown",
   "metadata": {}
  },
  {
   "cell_type": "code",
   "execution_count": 2,
   "metadata": {},
   "outputs": [
    {
     "output_type": "stream",
     "name": "stdout",
     "text": [
      "Azure ML SDK Version:  1.26.0\n",
      "Warning: Falling back to use azure cli login credentials.\n",
      "If you run your code in unattended mode, i.e., where you can't give a user input, then we recommend to use ServicePrincipalAuthentication or MsiAuthentication.\n",
      "Please refer to aka.ms/aml-notebook-auth for different authentication mechanisms in azureml-sdk.\n",
      "luisdel-ml\twesteurope\tluisdel\n"
     ]
    }
   ],
   "source": [
    "import azureml.core\n",
    "from azureml.core import Workspace\n",
    "\n",
    "# check core SDK version number\n",
    "print(\"Azure ML SDK Version: \", azureml.core.VERSION)\n",
    "\n",
    "ws = Workspace.from_config()\n",
    "print(ws.name, ws.location, ws.resource_group, sep='\\t')\n",
    "\n",
    "compute_target = 'low-prio-compute'"
   ]
  },
  {
   "cell_type": "code",
   "execution_count": 3,
   "metadata": {},
   "outputs": [
    {
     "output_type": "stream",
     "name": "stdout",
     "text": [
      "Created step sample_step.py [c33bf9ac][8953bb80-5313-497d-b8a5-ffbee81d6fcf], (This step will run and generate new outputs)\n",
      "Submitted PipelineRun 04bdf307-1f3d-4963-b917-bc36ab95a0e4\n",
      "Link to Azure Machine Learning Portal: https://ml.azure.com/runs/04bdf307-1f3d-4963-b917-bc36ab95a0e4?wsid=/subscriptions/0d42ef99-c937-43f7-8ff1-1e0fd4e5a4b7/resourcegroups/luisdel/workspaces/luisdel-ml&tid=1c27a794-233b-4135-91e9-067074be85fd\n"
     ]
    },
    {
     "output_type": "execute_result",
     "data": {
      "text/plain": [
       "Run(Experiment: Logging_Experiment,\n",
       "Id: 04bdf307-1f3d-4963-b917-bc36ab95a0e4,\n",
       "Type: azureml.PipelineRun,\n",
       "Status: Preparing)"
      ],
      "text/html": "<table style=\"width:100%\"><tr><th>Experiment</th><th>Id</th><th>Type</th><th>Status</th><th>Details Page</th><th>Docs Page</th></tr><tr><td>Logging_Experiment</td><td>04bdf307-1f3d-4963-b917-bc36ab95a0e4</td><td>azureml.PipelineRun</td><td>Preparing</td><td><a href=\"https://ml.azure.com/runs/04bdf307-1f3d-4963-b917-bc36ab95a0e4?wsid=/subscriptions/0d42ef99-c937-43f7-8ff1-1e0fd4e5a4b7/resourcegroups/luisdel/workspaces/luisdel-ml&amp;tid=1c27a794-233b-4135-91e9-067074be85fd\" target=\"_blank\" rel=\"noopener\">Link to Azure Machine Learning studio</a></td><td><a href=\"https://docs.microsoft.com/en-us/python/api/overview/azure/ml/intro?view=azure-ml-py\" target=\"_blank\" rel=\"noopener\">Link to Documentation</a></td></tr></table>"
     },
     "metadata": {},
     "execution_count": 3
    }
   ],
   "source": [
    "from azureml.core.conda_dependencies import CondaDependencies\n",
    "from azureml.core.runconfig import RunConfiguration\n",
    "from azureml.pipeline.core import Pipeline\n",
    "from azureml.pipeline.steps import PythonScriptStep\n",
    "\n",
    "# Connecting to the workspace and compute target not shown\n",
    "\n",
    "# Add pip dependency on OpenCensus\n",
    "dependencies = CondaDependencies()\n",
    "dependencies.add_pip_package(\"opencensus-ext-azure>=1.0.1\")\n",
    "run_config = RunConfiguration(conda_dependencies=dependencies)\n",
    "\n",
    "# Add environment variable with Application Insights Connection String\n",
    "# Replace the value with your own connection string\n",
    "run_config.environment.environment_variables = {\n",
    "    \"APPLICATIONINSIGHTS_CONNECTION_STRING\": 'xxx'\n",
    "}\n",
    "\n",
    "# Configure step with runconfig\n",
    "sample_step = PythonScriptStep(\n",
    "        script_name=\"sample_step.py\",\n",
    "        compute_target=compute_target,\n",
    "        runconfig=run_config\n",
    ")\n",
    "\n",
    "# Submit new pipeline run\n",
    "pipeline = Pipeline(workspace=ws, steps=[sample_step])\n",
    "pipeline.submit(experiment_name=\"Logging_Experiment\")"
   ]
  },
  {
   "source": [
    "# Logging with Custom Dimensions\n",
    "\n",
    "By default, logs forwarded to Application Insights won't have enough context to trace back to the run or experiment. To make the logs actionable for diagnosing issues, additional fields are needed.\n",
    "\n",
    "See step sample script for a sample on how to do this"
   ],
   "cell_type": "markdown",
   "metadata": {}
  },
  {
   "cell_type": "code",
   "execution_count": null,
   "metadata": {},
   "outputs": [],
   "source": []
  }
 ]
}