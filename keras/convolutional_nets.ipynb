{
 "cells": [
  {
   "cell_type": "markdown",
   "metadata": {},
   "source": [
    "# Convolutional nets\n",
    "\n",
    "## Primary use case: computer vision"
   ]
  },
  {
   "cell_type": "markdown",
   "metadata": {},
   "source": [
    "# Example: MNIST\n",
    "\n",
    "In the previous MNIST, we did a Dense neural net, which achieved an accuracy of ~97%\n",
    "\n",
    "We will now use a convnet to solve the problem and evalute its performance"
   ]
  },
  {
   "cell_type": "markdown",
   "metadata": {},
   "source": [
    "## Import and prep the data"
   ]
  },
  {
   "cell_type": "code",
   "execution_count": 1,
   "metadata": {},
   "outputs": [],
   "source": [
    "import keras\n",
    "keras.__version__\n",
    "\n",
    "from keras.datasets import mnist\n",
    "from keras.utils import to_categorical\n",
    "\n",
    "(train_images, train_labels), (test_images, test_labels) = mnist.load_data()\n",
    "\n",
    "train_images = train_images.reshape((60000, 28, 28, 1))\n",
    "train_images = train_images.astype('float32') / 255\n",
    "\n",
    "test_images = test_images.reshape((10000, 28, 28, 1))\n",
    "test_images = test_images.astype('float32') / 255\n",
    "\n",
    "train_labels = to_categorical(train_labels)\n",
    "test_labels = to_categorical(test_labels)"
   ]
  },
  {
   "cell_type": "markdown",
   "metadata": {},
   "source": [
    "## Build the network"
   ]
  },
  {
   "cell_type": "code",
   "execution_count": 3,
   "metadata": {},
   "outputs": [],
   "source": [
    "from keras import layers\n",
    "from keras import models\n",
    "\n",
    "model = models.Sequential()\n",
    "model.add(layers.Conv2D(32, (3, 3), activation='relu', input_shape=(28, 28, 1)))\n",
    "model.add(layers.MaxPooling2D((2, 2)))\n",
    "model.add(layers.Conv2D(64, (3, 3), activation='relu'))\n",
    "model.add(layers.MaxPooling2D((2, 2)))\n",
    "model.add(layers.Conv2D(64, (3, 3), activation='relu'))"
   ]
  },
  {
   "cell_type": "markdown",
   "metadata": {},
   "source": [
    "Flatten the output and push into a Dense network for creating an output"
   ]
  },
  {
   "cell_type": "code",
   "execution_count": 4,
   "metadata": {},
   "outputs": [],
   "source": [
    "model.add(layers.Flatten())\n",
    "model.add(layers.Dense(64, activation='relu'))\n",
    "model.add(layers.Dense(10, activation='softmax'))"
   ]
  },
  {
   "cell_type": "markdown",
   "metadata": {},
   "source": [
    "Display the architecture of the network"
   ]
  },
  {
   "cell_type": "code",
   "execution_count": 8,
   "metadata": {},
   "outputs": [
    {
     "name": "stdout",
     "output_type": "stream",
     "text": [
      "Model: \"sequential\"\n",
      "_________________________________________________________________\n",
      "Layer (type)                 Output Shape              Param #   \n",
      "=================================================================\n",
      "conv2d (Conv2D)              (None, 26, 26, 32)        320       \n",
      "_________________________________________________________________\n",
      "max_pooling2d (MaxPooling2D) (None, 13, 13, 32)        0         \n",
      "_________________________________________________________________\n",
      "conv2d_1 (Conv2D)            (None, 11, 11, 64)        18496     \n",
      "_________________________________________________________________\n",
      "max_pooling2d_1 (MaxPooling2 (None, 5, 5, 64)          0         \n",
      "_________________________________________________________________\n",
      "conv2d_2 (Conv2D)            (None, 3, 3, 64)          36928     \n",
      "_________________________________________________________________\n",
      "flatten (Flatten)            (None, 576)               0         \n",
      "_________________________________________________________________\n",
      "dense (Dense)                (None, 64)                36928     \n",
      "_________________________________________________________________\n",
      "dense_1 (Dense)              (None, 10)                650       \n",
      "=================================================================\n",
      "Total params: 93,322\n",
      "Trainable params: 93,322\n",
      "Non-trainable params: 0\n",
      "_________________________________________________________________\n"
     ]
    }
   ],
   "source": [
    "model.summary()"
   ]
  },
  {
   "cell_type": "markdown",
   "metadata": {},
   "source": [
    "## Comsummarye and fit"
   ]
  },
  {
   "cell_type": "code",
   "execution_count": 5,
   "metadata": {},
   "outputs": [
    {
     "name": "stdout",
     "output_type": "stream",
     "text": [
      "Epoch 1/5\n",
      "938/938 [==============================] - 17s 19ms/step - loss: 0.1705 - accuracy: 0.9468\n",
      "Epoch 2/5\n",
      "938/938 [==============================] - 20s 21ms/step - loss: 0.0459 - accuracy: 0.9855\n",
      "Epoch 3/5\n",
      "938/938 [==============================] - 20s 21ms/step - loss: 0.0323 - accuracy: 0.9902\n",
      "Epoch 4/5\n",
      "938/938 [==============================] - 20s 22ms/step - loss: 0.0241 - accuracy: 0.9926\n",
      "Epoch 5/5\n",
      "938/938 [==============================] - 20s 21ms/step - loss: 0.0192 - accuracy: 0.9942\n"
     ]
    },
    {
     "data": {
      "text/plain": [
       "<tensorflow.python.keras.callbacks.History at 0x7fe35ac5e5c0>"
      ]
     },
     "execution_count": 5,
     "metadata": {},
     "output_type": "execute_result"
    }
   ],
   "source": [
    "model.compile(optimizer='rmsprop',\n",
    "              loss='categorical_crossentropy',\n",
    "              metrics=['accuracy'])\n",
    "model.fit(train_images, train_labels, epochs=5, batch_size=64)"
   ]
  },
  {
   "cell_type": "markdown",
   "metadata": {},
   "source": [
    "## Evaluate"
   ]
  },
  {
   "cell_type": "code",
   "execution_count": 6,
   "metadata": {},
   "outputs": [
    {
     "name": "stdout",
     "output_type": "stream",
     "text": [
      "313/313 [==============================] - 2s 6ms/step - loss: 0.0282 - accuracy: 0.9922\n"
     ]
    }
   ],
   "source": [
    "test_loss, test_acc = model.evaluate(test_images, test_labels)"
   ]
  },
  {
   "cell_type": "code",
   "execution_count": 7,
   "metadata": {},
   "outputs": [
    {
     "data": {
      "text/plain": [
       "0.9922000169754028"
      ]
     },
     "execution_count": 7,
     "metadata": {},
     "output_type": "execute_result"
    }
   ],
   "source": [
    "test_acc"
   ]
  },
  {
   "cell_type": "markdown",
   "metadata": {},
   "source": [
    "## Result\n",
    "\n",
    "The original dense network had an accuracy of 97.8%. The convnet goes up to 99.22%. This is a 68% improvement in the error rate."
   ]
  },
  {
   "cell_type": "markdown",
   "metadata": {},
   "source": [
    "# Gradually improving network performance"
   ]
  },
  {
   "cell_type": "code",
   "execution_count": 3,
   "metadata": {},
   "outputs": [],
   "source": [
    "import os, shutil"
   ]
  },
  {
   "cell_type": "code",
   "execution_count": 4,
   "metadata": {},
   "outputs": [],
   "source": [
    "# The path to the directory where the original\n",
    "# dataset was uncompressed\n",
    "original_dataset_dir = './data/dogs-vs-cats/train'\n",
    "\n",
    "# The directory where we will\n",
    "# store our smaller dataset\n",
    "base_dir = './data/dogs-vs-cats-small'\n",
    "if not os.path.exists(base_dir):\n",
    "    os.mkdir(base_dir)\n",
    "\n",
    "# Directories for our training,\n",
    "# validation and test splits\n",
    "train_dir = os.path.join(base_dir, 'train')\n",
    "if not os.path.exists(train_dir):\n",
    "    os.mkdir(train_dir)\n",
    "validation_dir = os.path.join(base_dir, 'validation')\n",
    "if not os.path.exists(validation_dir):\n",
    "    os.mkdir(validation_dir)\n",
    "test_dir = os.path.join(base_dir, 'test')\n",
    "if not os.path.exists(test_dir):\n",
    "    os.mkdir(test_dir)\n",
    "\n",
    "# Directory with our training cat pictures\n",
    "train_cats_dir = os.path.join(train_dir, 'cats')\n",
    "if not os.path.exists(train_cats_dir):\n",
    "    os.mkdir(train_cats_dir)\n",
    "\n",
    "# Directory with our training dog pictures\n",
    "train_dogs_dir = os.path.join(train_dir, 'dogs')\n",
    "if not os.path.exists(train_dogs_dir):\n",
    "    os.mkdir(train_dogs_dir)\n",
    "\n",
    "# Directory with our validation cat pictures\n",
    "validation_cats_dir = os.path.join(validation_dir, 'cats')\n",
    "if not os.path.exists(validation_cats_dir):\n",
    "    os.mkdir(validation_cats_dir)\n",
    "\n",
    "# Directory with our validation dog pictures\n",
    "validation_dogs_dir = os.path.join(validation_dir, 'dogs')\n",
    "if not os.path.exists(validation_dogs_dir):\n",
    "    os.mkdir(validation_dogs_dir)\n",
    "\n",
    "# Directory with our validation cat pictures\n",
    "test_cats_dir = os.path.join(test_dir, 'cats')\n",
    "if not os.path.exists(test_cats_dir):\n",
    "    os.mkdir(test_cats_dir)\n",
    "\n",
    "# Directory with our validation dog pictures\n",
    "test_dogs_dir = os.path.join(test_dir, 'dogs')\n",
    "if not os.path.exists(test_dogs_dir):\n",
    "    os.mkdir(test_dogs_dir)\n",
    "\n",
    "# Copy first 1000 cat images to train_cats_dir\n",
    "fnames = ['cat.{}.jpg'.format(i) for i in range(1000)]\n",
    "for fname in fnames:\n",
    "    src = os.path.join(original_dataset_dir, fname)\n",
    "    dst = os.path.join(train_cats_dir, fname)\n",
    "    shutil.copyfile(src, dst)\n",
    "\n",
    "# Copy next 500 cat images to validation_cats_dir\n",
    "fnames = ['cat.{}.jpg'.format(i) for i in range(1000, 1500)]\n",
    "for fname in fnames:\n",
    "    src = os.path.join(original_dataset_dir, fname)\n",
    "    dst = os.path.join(validation_cats_dir, fname)\n",
    "    shutil.copyfile(src, dst)\n",
    "    \n",
    "# Copy next 500 cat images to test_cats_dir\n",
    "fnames = ['cat.{}.jpg'.format(i) for i in range(1500, 2000)]\n",
    "for fname in fnames:\n",
    "    src = os.path.join(original_dataset_dir, fname)\n",
    "    dst = os.path.join(test_cats_dir, fname)\n",
    "    shutil.copyfile(src, dst)\n",
    "    \n",
    "# Copy first 1000 dog images to train_dogs_dir\n",
    "fnames = ['dog.{}.jpg'.format(i) for i in range(1000)]\n",
    "for fname in fnames:\n",
    "    src = os.path.join(original_dataset_dir, fname)\n",
    "    dst = os.path.join(train_dogs_dir, fname)\n",
    "    shutil.copyfile(src, dst)\n",
    "    \n",
    "# Copy next 500 dog images to validation_dogs_dir\n",
    "fnames = ['dog.{}.jpg'.format(i) for i in range(1000, 1500)]\n",
    "for fname in fnames:\n",
    "    src = os.path.join(original_dataset_dir, fname)\n",
    "    dst = os.path.join(validation_dogs_dir, fname)\n",
    "    shutil.copyfile(src, dst)\n",
    "    \n",
    "# Copy next 500 dog images to test_dogs_dir\n",
    "fnames = ['dog.{}.jpg'.format(i) for i in range(1500, 2000)]\n",
    "for fname in fnames:\n",
    "    src = os.path.join(original_dataset_dir, fname)\n",
    "    dst = os.path.join(test_dogs_dir, fname)\n",
    "    shutil.copyfile(src, dst)"
   ]
  },
  {
   "cell_type": "markdown",
   "metadata": {},
   "source": [
    "Count the data in the folder"
   ]
  },
  {
   "cell_type": "code",
   "execution_count": 5,
   "metadata": {},
   "outputs": [
    {
     "name": "stdout",
     "output_type": "stream",
     "text": [
      "total training cat images: 1000\n"
     ]
    }
   ],
   "source": [
    "print('total training cat images:', len(os.listdir(train_cats_dir)))"
   ]
  },
  {
   "cell_type": "code",
   "execution_count": 6,
   "metadata": {},
   "outputs": [
    {
     "name": "stdout",
     "output_type": "stream",
     "text": [
      "total training dog images: 1000\n"
     ]
    }
   ],
   "source": [
    "print('total training dog images:', len(os.listdir(train_dogs_dir)))"
   ]
  },
  {
   "cell_type": "code",
   "execution_count": 7,
   "metadata": {},
   "outputs": [
    {
     "name": "stdout",
     "output_type": "stream",
     "text": [
      "total validation cat images: 500\n"
     ]
    }
   ],
   "source": [
    "print('total validation cat images:', len(os.listdir(validation_cats_dir)))"
   ]
  },
  {
   "cell_type": "code",
   "execution_count": 8,
   "metadata": {},
   "outputs": [
    {
     "name": "stdout",
     "output_type": "stream",
     "text": [
      "total validation dog images: 500\n"
     ]
    }
   ],
   "source": [
    "print('total validation dog images:', len(os.listdir(validation_dogs_dir)))"
   ]
  },
  {
   "cell_type": "code",
   "execution_count": 9,
   "metadata": {},
   "outputs": [
    {
     "name": "stdout",
     "output_type": "stream",
     "text": [
      "total test cat images: 500\n"
     ]
    }
   ],
   "source": [
    "print('total test cat images:', len(os.listdir(test_cats_dir)))"
   ]
  },
  {
   "cell_type": "code",
   "execution_count": 10,
   "metadata": {},
   "outputs": [
    {
     "name": "stdout",
     "output_type": "stream",
     "text": [
      "total test dog images: 500\n"
     ]
    }
   ],
   "source": [
    "print('total test dog images:', len(os.listdir(test_dogs_dir)))"
   ]
  },
  {
   "cell_type": "markdown",
   "metadata": {},
   "source": [
    "## First try: normal architecture\n",
    "### Build the network"
   ]
  },
  {
   "cell_type": "code",
   "execution_count": 13,
   "metadata": {},
   "outputs": [],
   "source": [
    "from keras import layers\n",
    "from keras import models\n",
    "\n",
    "model = models.Sequential()\n",
    "model.add(layers.Conv2D(32, (3, 3), activation='relu',\n",
    "                        input_shape=(150, 150, 3)))\n",
    "model.add(layers.MaxPooling2D((2, 2)))\n",
    "model.add(layers.Conv2D(64, (3, 3), activation='relu'))\n",
    "model.add(layers.MaxPooling2D((2, 2)))\n",
    "model.add(layers.Conv2D(128, (3, 3), activation='relu'))\n",
    "model.add(layers.MaxPooling2D((2, 2)))\n",
    "model.add(layers.Conv2D(128, (3, 3), activation='relu'))\n",
    "model.add(layers.MaxPooling2D((2, 2)))\n",
    "model.add(layers.Flatten())\n",
    "model.add(layers.Dense(512, activation='relu'))\n",
    "model.add(layers.Dense(1, activation='sigmoid'))"
   ]
  },
  {
   "cell_type": "markdown",
   "metadata": {},
   "source": [
    "### Compile the network"
   ]
  },
  {
   "cell_type": "code",
   "execution_count": 14,
   "metadata": {},
   "outputs": [],
   "source": [
    "from keras import optimizers\n",
    "\n",
    "model.compile(loss='binary_crossentropy',\n",
    "              optimizer=optimizers.RMSprop(lr=1e-4),\n",
    "              metrics=['acc'])"
   ]
  },
  {
   "cell_type": "markdown",
   "metadata": {},
   "source": [
    "### Prepare the data\n",
    "\n",
    "* Read the picture files\n",
    "* Convert the JPEG files into grids of RGB values\n",
    "* Convert to floating-point tensors\n",
    "* Rescale the pixel values to [0, 1]"
   ]
  },
  {
   "cell_type": "code",
   "execution_count": 15,
   "metadata": {},
   "outputs": [
    {
     "name": "stdout",
     "output_type": "stream",
     "text": [
      "Found 2000 images belonging to 2 classes.\n",
      "Found 1000 images belonging to 2 classes.\n"
     ]
    }
   ],
   "source": [
    "from keras.preprocessing.image import ImageDataGenerator\n",
    "\n",
    "# All images will be rescaled by 1./255\n",
    "train_datagen = ImageDataGenerator(rescale=1./255)\n",
    "test_datagen = ImageDataGenerator(rescale=1./255)\n",
    "\n",
    "train_generator = train_datagen.flow_from_directory(\n",
    "        # This is the target directory\n",
    "        train_dir,\n",
    "        # All images will be resized to 150x150\n",
    "        target_size=(150, 150),\n",
    "        batch_size=20,\n",
    "        # Since we use binary_crossentropy loss, we need binary labels\n",
    "        class_mode='binary')\n",
    "\n",
    "validation_generator = test_datagen.flow_from_directory(\n",
    "        validation_dir,\n",
    "        target_size=(150, 150),\n",
    "        batch_size=20,\n",
    "        class_mode='binary')"
   ]
  },
  {
   "cell_type": "markdown",
   "metadata": {},
   "source": [
    "### Train the model"
   ]
  },
  {
   "cell_type": "code",
   "execution_count": 17,
   "metadata": {},
   "outputs": [
    {
     "name": "stdout",
     "output_type": "stream",
     "text": [
      "Epoch 1/30\n",
      "100/100 [==============================] - 50s 497ms/step - loss: 0.6813 - acc: 0.5575 - val_loss: 0.6638 - val_acc: 0.5910\n",
      "Epoch 2/30\n",
      "100/100 [==============================] - 53s 529ms/step - loss: 0.6522 - acc: 0.6150 - val_loss: 0.6310 - val_acc: 0.6430\n",
      "Epoch 3/30\n",
      "100/100 [==============================] - 50s 500ms/step - loss: 0.6025 - acc: 0.6745 - val_loss: 0.6725 - val_acc: 0.5710\n",
      "Epoch 4/30\n",
      "100/100 [==============================] - 58s 579ms/step - loss: 0.5710 - acc: 0.7025 - val_loss: 0.6138 - val_acc: 0.6680\n",
      "Epoch 5/30\n",
      "100/100 [==============================] - 60s 604ms/step - loss: 0.5516 - acc: 0.7170 - val_loss: 0.5942 - val_acc: 0.6840\n",
      "Epoch 6/30\n",
      "100/100 [==============================] - 52s 515ms/step - loss: 0.5286 - acc: 0.7280 - val_loss: 0.5746 - val_acc: 0.7010\n",
      "Epoch 7/30\n",
      "100/100 [==============================] - 49s 494ms/step - loss: 0.5101 - acc: 0.7525 - val_loss: 0.5714 - val_acc: 0.6890\n",
      "Epoch 8/30\n",
      "100/100 [==============================] - 50s 497ms/step - loss: 0.4782 - acc: 0.7680 - val_loss: 0.5943 - val_acc: 0.6980\n",
      "Epoch 9/30\n",
      "100/100 [==============================] - 51s 509ms/step - loss: 0.4800 - acc: 0.7615 - val_loss: 0.5899 - val_acc: 0.6810\n",
      "Epoch 10/30\n",
      "100/100 [==============================] - 50s 496ms/step - loss: 0.4516 - acc: 0.7910 - val_loss: 0.5737 - val_acc: 0.6970\n",
      "Epoch 11/30\n",
      "100/100 [==============================] - 64s 636ms/step - loss: 0.4314 - acc: 0.7945 - val_loss: 0.5736 - val_acc: 0.6950\n",
      "Epoch 12/30\n",
      "100/100 [==============================] - 59s 588ms/step - loss: 0.4044 - acc: 0.8125 - val_loss: 0.5858 - val_acc: 0.7040\n",
      "Epoch 13/30\n",
      "100/100 [==============================] - 59s 591ms/step - loss: 0.3958 - acc: 0.8190 - val_loss: 0.6399 - val_acc: 0.6800\n",
      "Epoch 14/30\n",
      "100/100 [==============================] - 52s 522ms/step - loss: 0.3862 - acc: 0.8390 - val_loss: 0.5989 - val_acc: 0.7060\n",
      "Epoch 15/30\n",
      "100/100 [==============================] - 50s 500ms/step - loss: 0.3577 - acc: 0.8395 - val_loss: 0.7048 - val_acc: 0.6820\n",
      "Epoch 16/30\n",
      "100/100 [==============================] - 49s 487ms/step - loss: 0.3507 - acc: 0.8415 - val_loss: 0.5900 - val_acc: 0.6950\n",
      "Epoch 17/30\n",
      "100/100 [==============================] - 52s 520ms/step - loss: 0.3300 - acc: 0.8550 - val_loss: 0.6251 - val_acc: 0.7100\n",
      "Epoch 18/30\n",
      "100/100 [==============================] - 57s 565ms/step - loss: 0.3163 - acc: 0.8710 - val_loss: 0.6150 - val_acc: 0.7040\n",
      "Epoch 19/30\n",
      "100/100 [==============================] - 50s 495ms/step - loss: 0.3007 - acc: 0.8765 - val_loss: 0.5946 - val_acc: 0.7040\n",
      "Epoch 20/30\n",
      "100/100 [==============================] - 56s 562ms/step - loss: 0.2689 - acc: 0.8855 - val_loss: 0.7096 - val_acc: 0.7010\n",
      "Epoch 21/30\n",
      "100/100 [==============================] - 50s 502ms/step - loss: 0.2712 - acc: 0.8825 - val_loss: 0.5987 - val_acc: 0.7170\n",
      "Epoch 22/30\n",
      "100/100 [==============================] - 51s 509ms/step - loss: 0.2454 - acc: 0.8950 - val_loss: 0.6495 - val_acc: 0.7110\n",
      "Epoch 23/30\n",
      "100/100 [==============================] - 55s 555ms/step - loss: 0.2368 - acc: 0.9135 - val_loss: 0.6621 - val_acc: 0.7270\n",
      "Epoch 24/30\n",
      "100/100 [==============================] - 52s 517ms/step - loss: 0.2326 - acc: 0.9015 - val_loss: 0.7064 - val_acc: 0.6980\n",
      "Epoch 25/30\n",
      "100/100 [==============================] - 50s 505ms/step - loss: 0.2080 - acc: 0.9210 - val_loss: 0.7400 - val_acc: 0.7120\n",
      "Epoch 26/30\n",
      "100/100 [==============================] - 50s 497ms/step - loss: 0.1865 - acc: 0.9290 - val_loss: 0.7351 - val_acc: 0.7150\n",
      "Epoch 27/30\n",
      "100/100 [==============================] - 51s 511ms/step - loss: 0.1793 - acc: 0.9305 - val_loss: 0.7732 - val_acc: 0.7160\n",
      "Epoch 28/30\n",
      "100/100 [==============================] - 51s 510ms/step - loss: 0.1601 - acc: 0.9390 - val_loss: 0.8609 - val_acc: 0.7140\n",
      "Epoch 29/30\n",
      "100/100 [==============================] - 50s 501ms/step - loss: 0.1507 - acc: 0.9450 - val_loss: 0.7976 - val_acc: 0.7090\n",
      "Epoch 30/30\n",
      "100/100 [==============================] - 50s 504ms/step - loss: 0.1339 - acc: 0.9540 - val_loss: 0.8746 - val_acc: 0.7110\n"
     ]
    }
   ],
   "source": [
    "history = model.fit(\n",
    "      train_generator,\n",
    "      steps_per_epoch=100,\n",
    "      epochs=30,\n",
    "      validation_data=validation_generator,\n",
    "      validation_steps=50)"
   ]
  },
  {
   "cell_type": "markdown",
   "metadata": {},
   "source": [
    "Save the model"
   ]
  },
  {
   "cell_type": "code",
   "execution_count": 18,
   "metadata": {},
   "outputs": [],
   "source": [
    "model.save('cats_and_dogs_small_1.h5')"
   ]
  },
  {
   "cell_type": "markdown",
   "metadata": {},
   "source": [
    "### Plot the model's performance"
   ]
  },
  {
   "cell_type": "code",
   "execution_count": 19,
   "metadata": {},
   "outputs": [
    {
     "data": {
      "image/png": "[encoded data removed]",
      "text/plain": [
       "<Figure size 432x288 with 1 Axes>"
      ]
     },
     "metadata": {
      "needs_background": "light"
     },
     "output_type": "display_data"
    },
    {
     "data": {
      "image/png": "[encoded data removed]",
      "text/plain": [
       "<Figure size 432x288 with 1 Axes>"
      ]
     },
     "metadata": {
      "needs_background": "light"
     },
     "output_type": "display_data"
    }
   ],
   "source": [
    "import matplotlib.pyplot as plt\n",
    "\n",
    "acc = history.history['acc']\n",
    "val_acc = history.history['val_acc']\n",
    "loss = history.history['loss']\n",
    "val_loss = history.history['val_loss']\n",
    "\n",
    "epochs = range(len(acc))\n",
    "\n",
    "plt.plot(epochs, acc, 'bo', label='Training acc')\n",
    "plt.plot(epochs, val_acc, 'b', label='Validation acc')\n",
    "plt.title('Training and validation accuracy')\n",
    "plt.legend()\n",
    "\n",
    "plt.figure()\n",
    "\n",
    "plt.plot(epochs, loss, 'bo', label='Training loss')\n",
    "plt.plot(epochs, val_loss, 'b', label='Validation loss')\n",
    "plt.title('Training and validation loss')\n",
    "plt.legend()\n",
    "\n",
    "plt.show()"
   ]
  },
  {
   "cell_type": "markdown",
   "metadata": {},
   "source": [
    "## Data augmentation"
   ]
  },
  {
   "cell_type": "markdown",
   "metadata": {},
   "source": [
    "The model is clearly overfitting.\n",
    "\n",
    "We will now use data augmentation to improve the performance of the model. This is a technique exclusive to computer vision problems.\n",
    "\n",
    "We will use data transformations to create new training samples which are reliable."
   ]
  },
  {
   "cell_type": "code",
   "execution_count": 20,
   "metadata": {},
   "outputs": [],
   "source": [
    "datagen = ImageDataGenerator(\n",
    "      rotation_range=40,\n",
    "      width_shift_range=0.2,\n",
    "      height_shift_range=0.2,\n",
    "      shear_range=0.2,\n",
    "      zoom_range=0.2,\n",
    "      horizontal_flip=True,\n",
    "      fill_mode='nearest')"
   ]
  },
  {
   "cell_type": "markdown",
   "metadata": {},
   "source": [
    "### Add a dropout layer to the network"
   ]
  },
  {
   "cell_type": "code",
   "execution_count": 21,
   "metadata": {},
   "outputs": [],
   "source": [
    "model = models.Sequential()\n",
    "model.add(layers.Conv2D(32, (3, 3), activation='relu',\n",
    "                        input_shape=(150, 150, 3)))\n",
    "model.add(layers.MaxPooling2D((2, 2)))\n",
    "model.add(layers.Conv2D(64, (3, 3), activation='relu'))\n",
    "model.add(layers.MaxPooling2D((2, 2)))\n",
    "model.add(layers.Conv2D(128, (3, 3), activation='relu'))\n",
    "model.add(layers.MaxPooling2D((2, 2)))\n",
    "model.add(layers.Conv2D(128, (3, 3), activation='relu'))\n",
    "model.add(layers.MaxPooling2D((2, 2)))\n",
    "model.add(layers.Flatten())\n",
    "model.add(layers.Dropout(0.5))\n",
    "model.add(layers.Dense(512, activation='relu'))\n",
    "model.add(layers.Dense(1, activation='sigmoid'))\n",
    "\n",
    "model.compile(loss='binary_crossentropy',\n",
    "              optimizer=optimizers.RMSprop(lr=1e-4),\n",
    "              metrics=['acc'])"
   ]
  },
  {
   "cell_type": "markdown",
   "metadata": {},
   "source": [
    "### Train the model"
   ]
  },
  {
   "cell_type": "code",
   "execution_count": 22,
   "metadata": {},
   "outputs": [
    {
     "name": "stdout",
     "output_type": "stream",
     "text": [
      "Found 2000 images belonging to 2 classes.\n",
      "Found 1000 images belonging to 2 classes.\n",
      "Epoch 1/100\n",
      "100/100 [==============================] - 73s 733ms/step - loss: 0.6913 - acc: 0.5314 - val_loss: 0.6837 - val_acc: 0.5152\n",
      "Epoch 2/100\n",
      "100/100 [==============================] - 75s 745ms/step - loss: 0.6747 - acc: 0.5676 - val_loss: 0.6554 - val_acc: 0.6140\n",
      "Epoch 3/100\n",
      "100/100 [==============================] - 73s 727ms/step - loss: 0.6617 - acc: 0.5955 - val_loss: 0.6361 - val_acc: 0.6294\n",
      "Epoch 4/100\n",
      "100/100 [==============================] - 76s 758ms/step - loss: 0.6439 - acc: 0.6146 - val_loss: 0.6539 - val_acc: 0.5966\n",
      "Epoch 5/100\n",
      "100/100 [==============================] - 72s 721ms/step - loss: 0.6307 - acc: 0.6391 - val_loss: 0.6375 - val_acc: 0.6098\n",
      "Epoch 6/100\n",
      "100/100 [==============================] - 73s 731ms/step - loss: 0.6103 - acc: 0.6562 - val_loss: 0.6153 - val_acc: 0.6579\n",
      "Epoch 7/100\n",
      "100/100 [==============================] - 74s 739ms/step - loss: 0.6111 - acc: 0.6638 - val_loss: 0.5879 - val_acc: 0.6617\n",
      "Epoch 8/100\n",
      "100/100 [==============================] - 84s 839ms/step - loss: 0.6050 - acc: 0.6655 - val_loss: 0.6023 - val_acc: 0.6586\n",
      "Epoch 9/100\n",
      "100/100 [==============================] - 80s 801ms/step - loss: 0.5945 - acc: 0.6727 - val_loss: 0.5622 - val_acc: 0.6939\n",
      "Epoch 10/100\n",
      "100/100 [==============================] - 83s 827ms/step - loss: 0.6061 - acc: 0.6674 - val_loss: 0.5742 - val_acc: 0.6770\n",
      "Epoch 11/100\n",
      "100/100 [==============================] - 80s 799ms/step - loss: 0.5823 - acc: 0.6910 - val_loss: 0.5515 - val_acc: 0.7101\n",
      "Epoch 12/100\n",
      "100/100 [==============================] - 74s 739ms/step - loss: 0.5806 - acc: 0.6840 - val_loss: 0.5835 - val_acc: 0.6765\n",
      "Epoch 13/100\n",
      "100/100 [==============================] - 71s 711ms/step - loss: 0.5773 - acc: 0.6906 - val_loss: 0.5291 - val_acc: 0.7291\n",
      "Epoch 14/100\n",
      "100/100 [==============================] - 71s 707ms/step - loss: 0.5787 - acc: 0.6856 - val_loss: 0.5630 - val_acc: 0.7023\n",
      "Epoch 15/100\n",
      "100/100 [==============================] - 70s 702ms/step - loss: 0.5590 - acc: 0.7051 - val_loss: 0.5526 - val_acc: 0.7157\n",
      "Epoch 16/100\n",
      "100/100 [==============================] - 73s 733ms/step - loss: 0.5552 - acc: 0.7090 - val_loss: 0.5453 - val_acc: 0.7197\n",
      "Epoch 17/100\n",
      "100/100 [==============================] - 72s 719ms/step - loss: 0.5601 - acc: 0.7032 - val_loss: 0.5338 - val_acc: 0.7081\n",
      "Epoch 18/100\n",
      "100/100 [==============================] - 73s 725ms/step - loss: 0.5503 - acc: 0.7083 - val_loss: 0.5699 - val_acc: 0.6967\n",
      "Epoch 19/100\n",
      "100/100 [==============================] - 71s 706ms/step - loss: 0.5451 - acc: 0.7140 - val_loss: 0.5094 - val_acc: 0.7326\n",
      "Epoch 20/100\n",
      "100/100 [==============================] - 73s 729ms/step - loss: 0.5447 - acc: 0.7148 - val_loss: 0.5831 - val_acc: 0.6827\n",
      "Epoch 21/100\n",
      "100/100 [==============================] - 71s 713ms/step - loss: 0.5409 - acc: 0.7219 - val_loss: 0.4950 - val_acc: 0.7448\n",
      "Epoch 22/100\n",
      "100/100 [==============================] - 71s 713ms/step - loss: 0.5310 - acc: 0.7274 - val_loss: 0.5045 - val_acc: 0.7468\n",
      "Epoch 23/100\n",
      "100/100 [==============================] - 72s 717ms/step - loss: 0.5351 - acc: 0.7298 - val_loss: 0.5370 - val_acc: 0.7373\n",
      "Epoch 24/100\n",
      "100/100 [==============================] - 72s 725ms/step - loss: 0.5268 - acc: 0.7348 - val_loss: 0.5910 - val_acc: 0.7036\n",
      "Epoch 25/100\n",
      "100/100 [==============================] - 71s 712ms/step - loss: 0.5168 - acc: 0.7362 - val_loss: 0.5181 - val_acc: 0.7278\n",
      "Epoch 26/100\n",
      "100/100 [==============================] - 72s 716ms/step - loss: 0.5271 - acc: 0.7304 - val_loss: 0.5010 - val_acc: 0.7597\n",
      "Epoch 27/100\n",
      "100/100 [==============================] - 71s 706ms/step - loss: 0.5178 - acc: 0.7415 - val_loss: 0.4990 - val_acc: 0.7474\n",
      "Epoch 28/100\n",
      "100/100 [==============================] - 72s 719ms/step - loss: 0.5242 - acc: 0.7333 - val_loss: 0.4924 - val_acc: 0.7449\n",
      "Epoch 29/100\n",
      "100/100 [==============================] - 71s 713ms/step - loss: 0.5149 - acc: 0.7472 - val_loss: 0.4896 - val_acc: 0.7590\n",
      "Epoch 30/100\n",
      "100/100 [==============================] - 72s 725ms/step - loss: 0.5095 - acc: 0.7500 - val_loss: 0.4896 - val_acc: 0.7627\n",
      "Epoch 31/100\n",
      "100/100 [==============================] - 71s 711ms/step - loss: 0.5109 - acc: 0.7434 - val_loss: 0.4930 - val_acc: 0.7577\n",
      "Epoch 32/100\n",
      "100/100 [==============================] - 71s 713ms/step - loss: 0.4993 - acc: 0.7560 - val_loss: 0.4806 - val_acc: 0.7627\n",
      "Epoch 33/100\n",
      "100/100 [==============================] - 77s 766ms/step - loss: 0.5093 - acc: 0.7557 - val_loss: 0.4923 - val_acc: 0.7735\n",
      "Epoch 34/100\n",
      "100/100 [==============================] - 76s 757ms/step - loss: 0.5058 - acc: 0.7443 - val_loss: 0.4964 - val_acc: 0.7622\n",
      "Epoch 35/100\n",
      "100/100 [==============================] - 80s 798ms/step - loss: 0.4917 - acc: 0.7620 - val_loss: 0.4978 - val_acc: 0.7614\n",
      "Epoch 36/100\n",
      "100/100 [==============================] - 73s 729ms/step - loss: 0.5026 - acc: 0.7629 - val_loss: 0.5054 - val_acc: 0.7352\n",
      "Epoch 37/100\n",
      "100/100 [==============================] - 72s 724ms/step - loss: 0.4822 - acc: 0.7619 - val_loss: 0.4560 - val_acc: 0.7817\n",
      "Epoch 38/100\n",
      "100/100 [==============================] - 74s 745ms/step - loss: 0.4906 - acc: 0.7595 - val_loss: 0.4994 - val_acc: 0.7629\n",
      "Epoch 39/100\n",
      "100/100 [==============================] - 73s 730ms/step - loss: 0.4872 - acc: 0.7531 - val_loss: 0.4646 - val_acc: 0.7732\n",
      "Epoch 40/100\n",
      "100/100 [==============================] - 73s 733ms/step - loss: 0.4871 - acc: 0.7620 - val_loss: 0.4491 - val_acc: 0.7912\n",
      "Epoch 41/100\n",
      "100/100 [==============================] - 74s 741ms/step - loss: 0.4866 - acc: 0.7588 - val_loss: 0.4546 - val_acc: 0.7784\n",
      "Epoch 42/100\n",
      "100/100 [==============================] - 72s 724ms/step - loss: 0.4807 - acc: 0.7651 - val_loss: 0.4565 - val_acc: 0.7855\n",
      "Epoch 43/100\n",
      "100/100 [==============================] - 73s 726ms/step - loss: 0.4649 - acc: 0.7787 - val_loss: 0.4950 - val_acc: 0.7680\n",
      "Epoch 44/100\n",
      "100/100 [==============================] - 72s 724ms/step - loss: 0.4732 - acc: 0.7704 - val_loss: 0.4411 - val_acc: 0.7925\n",
      "Epoch 45/100\n",
      "100/100 [==============================] - 72s 718ms/step - loss: 0.4719 - acc: 0.7727 - val_loss: 0.4520 - val_acc: 0.7862\n",
      "Epoch 46/100\n",
      "100/100 [==============================] - 72s 719ms/step - loss: 0.4598 - acc: 0.7784 - val_loss: 0.4745 - val_acc: 0.7841\n",
      "Epoch 47/100\n",
      "100/100 [==============================] - 73s 726ms/step - loss: 0.4706 - acc: 0.7704 - val_loss: 0.4853 - val_acc: 0.7576\n",
      "Epoch 48/100\n",
      "100/100 [==============================] - 74s 741ms/step - loss: 0.4656 - acc: 0.7683 - val_loss: 0.4826 - val_acc: 0.7835\n",
      "Epoch 49/100\n",
      "100/100 [==============================] - 74s 738ms/step - loss: 0.4539 - acc: 0.7767 - val_loss: 0.4419 - val_acc: 0.7880\n",
      "Epoch 50/100\n",
      "100/100 [==============================] - 72s 718ms/step - loss: 0.4539 - acc: 0.7762 - val_loss: 0.4480 - val_acc: 0.7862\n",
      "Epoch 51/100\n",
      "100/100 [==============================] - 75s 748ms/step - loss: 0.4531 - acc: 0.7845 - val_loss: 0.4416 - val_acc: 0.7893\n",
      "Epoch 52/100\n",
      "100/100 [==============================] - 73s 734ms/step - loss: 0.4511 - acc: 0.7794 - val_loss: 0.4833 - val_acc: 0.7525\n",
      "Epoch 53/100\n",
      "100/100 [==============================] - 71s 715ms/step - loss: 0.4446 - acc: 0.7942 - val_loss: 0.4401 - val_acc: 0.8061\n",
      "Epoch 54/100\n",
      "100/100 [==============================] - 71s 712ms/step - loss: 0.4485 - acc: 0.7902 - val_loss: 0.4366 - val_acc: 0.7945\n",
      "Epoch 55/100\n",
      "100/100 [==============================] - 73s 727ms/step - loss: 0.4546 - acc: 0.7819 - val_loss: 0.4692 - val_acc: 0.7652\n",
      "Epoch 56/100\n",
      "100/100 [==============================] - 72s 719ms/step - loss: 0.4588 - acc: 0.7767 - val_loss: 0.4455 - val_acc: 0.7919\n",
      "Epoch 57/100\n",
      "100/100 [==============================] - 73s 731ms/step - loss: 0.4381 - acc: 0.7904 - val_loss: 0.4330 - val_acc: 0.7938\n",
      "Epoch 58/100\n",
      "100/100 [==============================] - 74s 742ms/step - loss: 0.4411 - acc: 0.7926 - val_loss: 0.4349 - val_acc: 0.7983\n",
      "Epoch 59/100\n",
      "100/100 [==============================] - 73s 730ms/step - loss: 0.4473 - acc: 0.7921 - val_loss: 0.4958 - val_acc: 0.7693\n",
      "Epoch 60/100\n",
      "100/100 [==============================] - 74s 740ms/step - loss: 0.4384 - acc: 0.7942 - val_loss: 0.5196 - val_acc: 0.7633\n",
      "Epoch 61/100\n",
      "100/100 [==============================] - 74s 738ms/step - loss: 0.4348 - acc: 0.7968 - val_loss: 0.4442 - val_acc: 0.7912\n",
      "Epoch 62/100\n",
      "100/100 [==============================] - 73s 729ms/step - loss: 0.4301 - acc: 0.8002 - val_loss: 0.4511 - val_acc: 0.8001\n",
      "Epoch 63/100\n",
      "100/100 [==============================] - 73s 726ms/step - loss: 0.4303 - acc: 0.8002 - val_loss: 0.5609 - val_acc: 0.7371\n",
      "Epoch 64/100\n",
      "100/100 [==============================] - 77s 775ms/step - loss: 0.4244 - acc: 0.8024 - val_loss: 0.4142 - val_acc: 0.8046\n",
      "Epoch 65/100\n",
      "100/100 [==============================] - 74s 744ms/step - loss: 0.4279 - acc: 0.8008 - val_loss: 0.5057 - val_acc: 0.7475\n",
      "Epoch 66/100\n",
      "100/100 [==============================] - 73s 729ms/step - loss: 0.4378 - acc: 0.7946 - val_loss: 0.4451 - val_acc: 0.7957\n",
      "Epoch 67/100\n",
      "100/100 [==============================] - 72s 722ms/step - loss: 0.4311 - acc: 0.8002 - val_loss: 0.4820 - val_acc: 0.7824\n",
      "Epoch 68/100\n",
      "100/100 [==============================] - 72s 723ms/step - loss: 0.4277 - acc: 0.7965 - val_loss: 0.4088 - val_acc: 0.8235\n",
      "Epoch 69/100\n",
      "100/100 [==============================] - 72s 724ms/step - loss: 0.4305 - acc: 0.7980 - val_loss: 0.4218 - val_acc: 0.8192\n",
      "Epoch 70/100\n",
      "100/100 [==============================] - 74s 741ms/step - loss: 0.4303 - acc: 0.8040 - val_loss: 0.4583 - val_acc: 0.7841\n",
      "Epoch 71/100\n",
      "100/100 [==============================] - 73s 726ms/step - loss: 0.4132 - acc: 0.8138 - val_loss: 0.4100 - val_acc: 0.8086\n",
      "Epoch 72/100\n",
      "100/100 [==============================] - 75s 747ms/step - loss: 0.4122 - acc: 0.8056 - val_loss: 0.4711 - val_acc: 0.7995\n",
      "Epoch 73/100\n",
      "100/100 [==============================] - 77s 773ms/step - loss: 0.4111 - acc: 0.8160 - val_loss: 0.4027 - val_acc: 0.8196\n",
      "Epoch 74/100\n",
      "100/100 [==============================] - 74s 742ms/step - loss: 0.4124 - acc: 0.8153 - val_loss: 0.4771 - val_acc: 0.7811\n",
      "Epoch 75/100\n",
      "100/100 [==============================] - 75s 754ms/step - loss: 0.4067 - acc: 0.8052 - val_loss: 0.4266 - val_acc: 0.8067\n",
      "Epoch 76/100\n",
      "100/100 [==============================] - 77s 768ms/step - loss: 0.4141 - acc: 0.8116 - val_loss: 0.4694 - val_acc: 0.7867\n",
      "Epoch 77/100\n",
      "100/100 [==============================] - 73s 732ms/step - loss: 0.4138 - acc: 0.7989 - val_loss: 0.4384 - val_acc: 0.7982\n",
      "Epoch 78/100\n",
      "100/100 [==============================] - 75s 749ms/step - loss: 0.4121 - acc: 0.8078 - val_loss: 0.4228 - val_acc: 0.8112\n",
      "Epoch 79/100\n",
      "100/100 [==============================] - 75s 747ms/step - loss: 0.3990 - acc: 0.8239 - val_loss: 0.4313 - val_acc: 0.8109\n",
      "Epoch 80/100\n",
      "100/100 [==============================] - 74s 743ms/step - loss: 0.3868 - acc: 0.8251 - val_loss: 0.5086 - val_acc: 0.7732\n",
      "Epoch 81/100\n",
      "100/100 [==============================] - 74s 737ms/step - loss: 0.4125 - acc: 0.8081 - val_loss: 0.4275 - val_acc: 0.8170\n",
      "Epoch 82/100\n",
      "100/100 [==============================] - 76s 761ms/step - loss: 0.3972 - acc: 0.8160 - val_loss: 0.4810 - val_acc: 0.7836\n",
      "Epoch 83/100\n",
      "100/100 [==============================] - 76s 761ms/step - loss: 0.3917 - acc: 0.8269 - val_loss: 0.5000 - val_acc: 0.7751\n",
      "Epoch 84/100\n",
      "100/100 [==============================] - 74s 738ms/step - loss: 0.3973 - acc: 0.8157 - val_loss: 0.5120 - val_acc: 0.7621\n",
      "Epoch 85/100\n",
      "100/100 [==============================] - 75s 751ms/step - loss: 0.3931 - acc: 0.8260 - val_loss: 0.4245 - val_acc: 0.8157\n",
      "Epoch 86/100\n",
      "100/100 [==============================] - 75s 749ms/step - loss: 0.3872 - acc: 0.8245 - val_loss: 0.4370 - val_acc: 0.7880\n",
      "Epoch 87/100\n",
      "100/100 [==============================] - 75s 755ms/step - loss: 0.3908 - acc: 0.8100 - val_loss: 0.4169 - val_acc: 0.8179\n",
      "Epoch 88/100\n",
      "100/100 [==============================] - 73s 731ms/step - loss: 0.3700 - acc: 0.8351 - val_loss: 0.4288 - val_acc: 0.8228\n",
      "Epoch 89/100\n",
      "100/100 [==============================] - 74s 741ms/step - loss: 0.4015 - acc: 0.8169 - val_loss: 0.4811 - val_acc: 0.7970\n",
      "Epoch 90/100\n",
      "100/100 [==============================] - 75s 752ms/step - loss: 0.3813 - acc: 0.8269 - val_loss: 0.4342 - val_acc: 0.8235\n",
      "Epoch 91/100\n",
      "100/100 [==============================] - 74s 738ms/step - loss: 0.3788 - acc: 0.8343 - val_loss: 0.3862 - val_acc: 0.8402\n",
      "Epoch 92/100\n",
      "100/100 [==============================] - 74s 744ms/step - loss: 0.3881 - acc: 0.8254 - val_loss: 0.4376 - val_acc: 0.8058\n",
      "Epoch 93/100\n",
      "100/100 [==============================] - 76s 764ms/step - loss: 0.3661 - acc: 0.8405 - val_loss: 0.4160 - val_acc: 0.8222\n",
      "Epoch 94/100\n",
      "100/100 [==============================] - 75s 746ms/step - loss: 0.3794 - acc: 0.8321 - val_loss: 0.4358 - val_acc: 0.8103\n",
      "Epoch 95/100\n",
      "100/100 [==============================] - 76s 755ms/step - loss: 0.3743 - acc: 0.8310 - val_loss: 0.4113 - val_acc: 0.8331\n",
      "Epoch 96/100\n",
      "100/100 [==============================] - 106s 1s/step - loss: 0.3707 - acc: 0.8333 - val_loss: 0.4625 - val_acc: 0.8128\n",
      "Epoch 97/100\n",
      "100/100 [==============================] - 86s 856ms/step - loss: 0.3693 - acc: 0.8317 - val_loss: 0.4693 - val_acc: 0.7805\n",
      "Epoch 98/100\n",
      "100/100 [==============================] - 86s 859ms/step - loss: 0.3840 - acc: 0.8242 - val_loss: 0.4707 - val_acc: 0.8022\n",
      "Epoch 99/100\n",
      "100/100 [==============================] - 85s 847ms/step - loss: 0.3670 - acc: 0.8318 - val_loss: 0.3737 - val_acc: 0.8445\n",
      "Epoch 100/100\n",
      "100/100 [==============================] - 86s 858ms/step - loss: 0.3749 - acc: 0.8304 - val_loss: 0.6840 - val_acc: 0.7500\n"
     ]
    }
   ],
   "source": [
    "train_datagen = ImageDataGenerator(\n",
    "    rescale=1./255,\n",
    "    rotation_range=40,\n",
    "    width_shift_range=0.2,\n",
    "    height_shift_range=0.2,\n",
    "    shear_range=0.2,\n",
    "    zoom_range=0.2,\n",
    "    horizontal_flip=True,)\n",
    "\n",
    "# Note that the validation data should not be augmented!\n",
    "test_datagen = ImageDataGenerator(rescale=1./255)\n",
    "\n",
    "train_generator = train_datagen.flow_from_directory(\n",
    "        # This is the target directory\n",
    "        train_dir,\n",
    "        # All images will be resized to 150x150\n",
    "        target_size=(150, 150),\n",
    "        batch_size=32,\n",
    "        # Since we use binary_crossentropy loss, we need binary labels\n",
    "        class_mode='binary')\n",
    "\n",
    "validation_generator = test_datagen.flow_from_directory(\n",
    "        validation_dir,\n",
    "        target_size=(150, 150),\n",
    "        batch_size=32,\n",
    "        class_mode='binary')\n",
    "\n",
    "history = model.fit(\n",
    "      train_generator,\n",
    "      steps_per_epoch=100,\n",
    "      epochs=100,\n",
    "      validation_data=validation_generator,\n",
    "      validation_steps=50)"
   ]
  },
  {
   "cell_type": "code",
   "execution_count": 23,
   "metadata": {},
   "outputs": [],
   "source": [
    "model.save('cats_and_dogs_small_2.h5')"
   ]
  },
  {
   "cell_type": "markdown",
   "metadata": {},
   "source": [
    "## Increasing the performance by using a pre-trained network"
   ]
  },
  {
   "cell_type": "markdown",
   "metadata": {},
   "source": [
    "_ImageNet_ includes classifications of a large dataset of many animals, including cats and dogs. We can use that pre-trained network for our benefit.\n",
    "\n",
    "We will use _feature extraction_ and _fine tuning_."
   ]
  },
  {
   "cell_type": "code",
   "execution_count": 13,
   "metadata": {},
   "outputs": [
    {
     "name": "stdout",
     "output_type": "stream",
     "text": [
      "Downloading data from https://storage.googleapis.com/tensorflow/keras-applications/vgg16/vgg16_weights_tf_dim_ordering_tf_kernels_notop.h5\n",
      "58892288/58889256 [==============================] - 2s 0us/step\n"
     ]
    }
   ],
   "source": [
    "from keras.applications import VGG16\n",
    "\n",
    "conv_base = VGG16(weights='imagenet',\n",
    "                  include_top=False,\n",
    "                  input_shape=(150, 150, 3))"
   ]
  },
  {
   "cell_type": "markdown",
   "metadata": {},
   "source": [
    "### Extract features from the pretrained convolutional network"
   ]
  },
  {
   "cell_type": "code",
   "execution_count": 14,
   "metadata": {},
   "outputs": [
    {
     "name": "stdout",
     "output_type": "stream",
     "text": [
      "Found 2000 images belonging to 2 classes.\n",
      "Found 1000 images belonging to 2 classes.\n",
      "Found 1000 images belonging to 2 classes.\n"
     ]
    }
   ],
   "source": [
    "import os\n",
    "import numpy as np\n",
    "from keras.preprocessing.image import ImageDataGenerator\n",
    "\n",
    "base_dir = './data/dogs-vs-cats-small'\n",
    "\n",
    "train_dir = os.path.join(base_dir, 'train')\n",
    "validation_dir = os.path.join(base_dir, 'validation')\n",
    "test_dir = os.path.join(base_dir, 'test')\n",
    "\n",
    "datagen = ImageDataGenerator(rescale=1./255)\n",
    "batch_size = 20\n",
    "\n",
    "def extract_features(directory, sample_count):\n",
    "    features = np.zeros(shape=(sample_count, 4, 4, 512))\n",
    "    labels = np.zeros(shape=(sample_count))\n",
    "    generator = datagen.flow_from_directory(\n",
    "        directory,\n",
    "        target_size=(150, 150),\n",
    "        batch_size=batch_size,\n",
    "        class_mode='binary')\n",
    "    i = 0\n",
    "    for inputs_batch, labels_batch in generator:\n",
    "        features_batch = conv_base.predict(inputs_batch)\n",
    "        features[i * batch_size : (i + 1) * batch_size] = features_batch\n",
    "        labels[i * batch_size : (i + 1) * batch_size] = labels_batch\n",
    "        i += 1\n",
    "        if i * batch_size >= sample_count:\n",
    "            # Note that since generators yield data indefinitely in a loop,\n",
    "            # we must `break` after every image has been seen once.\n",
    "            break\n",
    "    return features, labels\n",
    "\n",
    "train_features, train_labels = extract_features(train_dir, 2000)\n",
    "validation_features, validation_labels = extract_features(validation_dir, 1000)\n",
    "test_features, test_labels = extract_features(test_dir, 1000)\n",
    "\n",
    "train_features = np.reshape(train_features, (2000, 4 * 4 * 512))\n",
    "validation_features = np.reshape(validation_features, (1000, 4 * 4 * 512))\n",
    "test_features = np.reshape(test_features, (1000, 4 * 4 * 512))"
   ]
  },
  {
   "cell_type": "markdown",
   "metadata": {},
   "source": [
    "### Define the densely connected classifier"
   ]
  },
  {
   "cell_type": "code",
   "execution_count": 15,
   "metadata": {},
   "outputs": [
    {
     "name": "stdout",
     "output_type": "stream",
     "text": [
      "Epoch 1/30\n",
      "100/100 [==============================] - 2s 17ms/step - loss: 0.6055 - acc: 0.6595 - val_loss: 0.4355 - val_acc: 0.8430\n",
      "Epoch 2/30\n",
      "100/100 [==============================] - 2s 15ms/step - loss: 0.4287 - acc: 0.8020 - val_loss: 0.3737 - val_acc: 0.8470\n",
      "Epoch 3/30\n",
      "100/100 [==============================] - 2s 15ms/step - loss: 0.3585 - acc: 0.8340 - val_loss: 0.3183 - val_acc: 0.8880\n",
      "Epoch 4/30\n",
      "100/100 [==============================] - 2s 16ms/step - loss: 0.3153 - acc: 0.8710 - val_loss: 0.2970 - val_acc: 0.8900\n",
      "Epoch 5/30\n",
      "100/100 [==============================] - 2s 15ms/step - loss: 0.2833 - acc: 0.8835 - val_loss: 0.2974 - val_acc: 0.8880\n",
      "Epoch 6/30\n",
      "100/100 [==============================] - 2s 15ms/step - loss: 0.2584 - acc: 0.9000 - val_loss: 0.2747 - val_acc: 0.8910\n",
      "Epoch 7/30\n",
      "100/100 [==============================] - 2s 16ms/step - loss: 0.2404 - acc: 0.9025 - val_loss: 0.2666 - val_acc: 0.8940\n",
      "Epoch 8/30\n",
      "100/100 [==============================] - 2s 16ms/step - loss: 0.2290 - acc: 0.9120 - val_loss: 0.2586 - val_acc: 0.8930\n",
      "Epoch 9/30\n",
      "100/100 [==============================] - 2s 16ms/step - loss: 0.2119 - acc: 0.9200 - val_loss: 0.2536 - val_acc: 0.8960\n",
      "Epoch 10/30\n",
      "100/100 [==============================] - 2s 16ms/step - loss: 0.2016 - acc: 0.9240 - val_loss: 0.2515 - val_acc: 0.8970\n",
      "Epoch 11/30\n",
      "100/100 [==============================] - 2s 17ms/step - loss: 0.1936 - acc: 0.9350 - val_loss: 0.2476 - val_acc: 0.9030\n",
      "Epoch 12/30\n",
      "100/100 [==============================] - 2s 16ms/step - loss: 0.1828 - acc: 0.9280 - val_loss: 0.2447 - val_acc: 0.9030\n",
      "Epoch 13/30\n",
      "100/100 [==============================] - 2s 16ms/step - loss: 0.1682 - acc: 0.9375 - val_loss: 0.2467 - val_acc: 0.9000\n",
      "Epoch 14/30\n",
      "100/100 [==============================] - 2s 16ms/step - loss: 0.1732 - acc: 0.9290 - val_loss: 0.2455 - val_acc: 0.9010\n",
      "Epoch 15/30\n",
      "100/100 [==============================] - 2s 16ms/step - loss: 0.1592 - acc: 0.9390 - val_loss: 0.2411 - val_acc: 0.8990\n",
      "Epoch 16/30\n",
      "100/100 [==============================] - 2s 16ms/step - loss: 0.1575 - acc: 0.9445 - val_loss: 0.2415 - val_acc: 0.8990\n",
      "Epoch 17/30\n",
      "100/100 [==============================] - 2s 16ms/step - loss: 0.1482 - acc: 0.9490 - val_loss: 0.2470 - val_acc: 0.8980\n",
      "Epoch 18/30\n",
      "100/100 [==============================] - 2s 16ms/step - loss: 0.1437 - acc: 0.9525 - val_loss: 0.2426 - val_acc: 0.8990\n",
      "Epoch 19/30\n",
      "100/100 [==============================] - 2s 16ms/step - loss: 0.1329 - acc: 0.9530 - val_loss: 0.2548 - val_acc: 0.8920\n",
      "Epoch 20/30\n",
      "100/100 [==============================] - 2s 16ms/step - loss: 0.1246 - acc: 0.9530 - val_loss: 0.2523 - val_acc: 0.8960\n",
      "Epoch 21/30\n",
      "100/100 [==============================] - 2s 16ms/step - loss: 0.1249 - acc: 0.9585 - val_loss: 0.2437 - val_acc: 0.9010\n",
      "Epoch 22/30\n",
      "100/100 [==============================] - 2s 17ms/step - loss: 0.1213 - acc: 0.9595 - val_loss: 0.2413 - val_acc: 0.8960\n",
      "Epoch 23/30\n",
      "100/100 [==============================] - 2s 17ms/step - loss: 0.1209 - acc: 0.9575 - val_loss: 0.2432 - val_acc: 0.9000\n",
      "Epoch 24/30\n",
      "100/100 [==============================] - 2s 16ms/step - loss: 0.1128 - acc: 0.9650 - val_loss: 0.2565 - val_acc: 0.8950\n",
      "Epoch 25/30\n",
      "100/100 [==============================] - 2s 16ms/step - loss: 0.1043 - acc: 0.9680 - val_loss: 0.2552 - val_acc: 0.8960\n",
      "Epoch 26/30\n",
      "100/100 [==============================] - 2s 16ms/step - loss: 0.1000 - acc: 0.9655 - val_loss: 0.2452 - val_acc: 0.9010\n",
      "Epoch 27/30\n",
      "100/100 [==============================] - 2s 15ms/step - loss: 0.1001 - acc: 0.9675 - val_loss: 0.2433 - val_acc: 0.8970\n",
      "Epoch 28/30\n",
      "100/100 [==============================] - 2s 17ms/step - loss: 0.0915 - acc: 0.9685 - val_loss: 0.2449 - val_acc: 0.8940\n",
      "Epoch 29/30\n",
      "100/100 [==============================] - 2s 16ms/step - loss: 0.0886 - acc: 0.9695 - val_loss: 0.2455 - val_acc: 0.8970\n",
      "Epoch 30/30\n",
      "100/100 [==============================] - 2s 15ms/step - loss: 0.0858 - acc: 0.9720 - val_loss: 0.2488 - val_acc: 0.8960\n"
     ]
    }
   ],
   "source": [
    "from keras import models\n",
    "from keras import layers\n",
    "from keras import optimizers\n",
    "\n",
    "model = models.Sequential()\n",
    "model.add(layers.Dense(256, activation='relu', input_dim=4 * 4 * 512))\n",
    "model.add(layers.Dropout(0.5))\n",
    "model.add(layers.Dense(1, activation='sigmoid'))\n",
    "\n",
    "model.compile(optimizer=optimizers.RMSprop(lr=2e-5),\n",
    "              loss='binary_crossentropy',\n",
    "              metrics=['acc'])\n",
    "\n",
    "history = model.fit(train_features, train_labels,\n",
    "                    epochs=30,\n",
    "                    batch_size=20,\n",
    "                    validation_data=(validation_features, validation_labels))"
   ]
  },
  {
   "cell_type": "markdown",
   "metadata": {},
   "source": [
    "Let's look at the loss and accuracy"
   ]
  },
  {
   "cell_type": "code",
   "execution_count": 16,
   "metadata": {},
   "outputs": [
    {
     "data": {
      "image/png": "[encoded data removed]",
      "text/plain": [
       "<Figure size 432x288 with 1 Axes>"
      ]
     },
     "metadata": {
      "needs_background": "light"
     },
     "output_type": "display_data"
    },
    {
     "data": {
      "image/png": "[encoded data removed]",
      "text/plain": [
       "<Figure size 432x288 with 1 Axes>"
      ]
     },
     "metadata": {
      "needs_background": "light"
     },
     "output_type": "display_data"
    }
   ],
   "source": [
    "import matplotlib.pyplot as plt\n",
    "\n",
    "acc = history.history['acc']\n",
    "val_acc = history.history['val_acc']\n",
    "loss = history.history['loss']\n",
    "val_loss = history.history['val_loss']\n",
    "\n",
    "epochs = range(len(acc))\n",
    "\n",
    "plt.plot(epochs, acc, 'bo', label='Training acc')\n",
    "plt.plot(epochs, val_acc, 'b', label='Validation acc')\n",
    "plt.title('Training and validation accuracy')\n",
    "plt.legend()\n",
    "\n",
    "plt.figure()\n",
    "\n",
    "plt.plot(epochs, loss, 'bo', label='Training loss')\n",
    "plt.plot(epochs, val_loss, 'b', label='Validation loss')\n",
    "plt.title('Training and validation loss')\n",
    "plt.legend()\n",
    "\n",
    "plt.show()"
   ]
  },
  {
   "cell_type": "markdown",
   "metadata": {},
   "source": [
    "Accuracy increases to about 90%, but overfitting kicks in almost from the start, even with regularization. This is because this technique does not use data augmentation."
   ]
  },
  {
   "cell_type": "markdown",
   "metadata": {},
   "source": [
    "### Feature extraction with data augmentation\n",
    "\n",
    "Use this technique only on GPU.\n",
    "\n",
    "Add the convulational base as a layer to the model. Freeze this model so that it is not changed by training."
   ]
  },
  {
   "cell_type": "code",
   "execution_count": 17,
   "metadata": {},
   "outputs": [],
   "source": [
    "from keras import models\n",
    "from keras import layers\n",
    "\n",
    "model = models.Sequential()\n",
    "model.add(conv_base)\n",
    "model.add(layers.Flatten())\n",
    "model.add(layers.Dense(256, activation='relu'))\n",
    "model.add(layers.Dense(1, activation='sigmoid'))"
   ]
  },
  {
   "cell_type": "code",
   "execution_count": 18,
   "metadata": {},
   "outputs": [],
   "source": [
    "conv_base.trainable = False"
   ]
  },
  {
   "cell_type": "markdown",
   "metadata": {},
   "source": [
    "Now train the model with the frozen convolutional base"
   ]
  },
  {
   "cell_type": "code",
   "execution_count": 20,
   "metadata": {},
   "outputs": [
    {
     "name": "stdout",
     "output_type": "stream",
     "text": [
      "Found 2000 images belonging to 2 classes.\n",
      "Found 1000 images belonging to 2 classes.\n",
      "Epoch 1/30\n"
     ]
    },
    {
     "ename": "KeyboardInterrupt",
     "evalue": "",
     "output_type": "error",
     "traceback": [
      "\u001b[0;31m---------------------------------------------------------------------------\u001b[0m",
      "\u001b[0;31mKeyboardInterrupt\u001b[0m                         Traceback (most recent call last)",
      "\u001b[0;32m<ipython-input-20-c9195807a6a2>\u001b[0m in \u001b[0;36m<module>\u001b[0;34m\u001b[0m\n\u001b[1;32m     39\u001b[0m       \u001b[0mvalidation_data\u001b[0m\u001b[0;34m=\u001b[0m\u001b[0mvalidation_generator\u001b[0m\u001b[0;34m,\u001b[0m\u001b[0;34m\u001b[0m\u001b[0;34m\u001b[0m\u001b[0m\n\u001b[1;32m     40\u001b[0m       \u001b[0mvalidation_steps\u001b[0m\u001b[0;34m=\u001b[0m\u001b[0;36m50\u001b[0m\u001b[0;34m,\u001b[0m\u001b[0;34m\u001b[0m\u001b[0;34m\u001b[0m\u001b[0m\n\u001b[0;32m---> 41\u001b[0;31m       verbose=2)\n\u001b[0m",
      "\u001b[0;32m~/miniconda3/envs/tricks/lib/python3.6/site-packages/tensorflow/python/keras/engine/training.py\u001b[0m in \u001b[0;36m_method_wrapper\u001b[0;34m(self, *args, **kwargs)\u001b[0m\n\u001b[1;32m    106\u001b[0m   \u001b[0;32mdef\u001b[0m \u001b[0m_method_wrapper\u001b[0m\u001b[0;34m(\u001b[0m\u001b[0mself\u001b[0m\u001b[0;34m,\u001b[0m \u001b[0;34m*\u001b[0m\u001b[0margs\u001b[0m\u001b[0;34m,\u001b[0m \u001b[0;34m**\u001b[0m\u001b[0mkwargs\u001b[0m\u001b[0;34m)\u001b[0m\u001b[0;34m:\u001b[0m\u001b[0;34m\u001b[0m\u001b[0;34m\u001b[0m\u001b[0m\n\u001b[1;32m    107\u001b[0m     \u001b[0;32mif\u001b[0m \u001b[0;32mnot\u001b[0m \u001b[0mself\u001b[0m\u001b[0;34m.\u001b[0m\u001b[0m_in_multi_worker_mode\u001b[0m\u001b[0;34m(\u001b[0m\u001b[0;34m)\u001b[0m\u001b[0;34m:\u001b[0m  \u001b[0;31m# pylint: disable=protected-access\u001b[0m\u001b[0;34m\u001b[0m\u001b[0;34m\u001b[0m\u001b[0m\n\u001b[0;32m--> 108\u001b[0;31m       \u001b[0;32mreturn\u001b[0m \u001b[0mmethod\u001b[0m\u001b[0;34m(\u001b[0m\u001b[0mself\u001b[0m\u001b[0;34m,\u001b[0m \u001b[0;34m*\u001b[0m\u001b[0margs\u001b[0m\u001b[0;34m,\u001b[0m \u001b[0;34m**\u001b[0m\u001b[0mkwargs\u001b[0m\u001b[0;34m)\u001b[0m\u001b[0;34m\u001b[0m\u001b[0;34m\u001b[0m\u001b[0m\n\u001b[0m\u001b[1;32m    109\u001b[0m \u001b[0;34m\u001b[0m\u001b[0m\n\u001b[1;32m    110\u001b[0m     \u001b[0;31m# Running inside `run_distribute_coordinator` already.\u001b[0m\u001b[0;34m\u001b[0m\u001b[0;34m\u001b[0m\u001b[0;34m\u001b[0m\u001b[0m\n",
      "\u001b[0;32m~/miniconda3/envs/tricks/lib/python3.6/site-packages/tensorflow/python/keras/engine/training.py\u001b[0m in \u001b[0;36mfit\u001b[0;34m(self, x, y, batch_size, epochs, verbose, callbacks, validation_split, validation_data, shuffle, class_weight, sample_weight, initial_epoch, steps_per_epoch, validation_steps, validation_batch_size, validation_freq, max_queue_size, workers, use_multiprocessing)\u001b[0m\n\u001b[1;32m   1096\u001b[0m                 batch_size=batch_size):\n\u001b[1;32m   1097\u001b[0m               \u001b[0mcallbacks\u001b[0m\u001b[0;34m.\u001b[0m\u001b[0mon_train_batch_begin\u001b[0m\u001b[0;34m(\u001b[0m\u001b[0mstep\u001b[0m\u001b[0;34m)\u001b[0m\u001b[0;34m\u001b[0m\u001b[0;34m\u001b[0m\u001b[0m\n\u001b[0;32m-> 1098\u001b[0;31m               \u001b[0mtmp_logs\u001b[0m \u001b[0;34m=\u001b[0m \u001b[0mtrain_function\u001b[0m\u001b[0;34m(\u001b[0m\u001b[0miterator\u001b[0m\u001b[0;34m)\u001b[0m\u001b[0;34m\u001b[0m\u001b[0;34m\u001b[0m\u001b[0m\n\u001b[0m\u001b[1;32m   1099\u001b[0m               \u001b[0;32mif\u001b[0m \u001b[0mdata_handler\u001b[0m\u001b[0;34m.\u001b[0m\u001b[0mshould_sync\u001b[0m\u001b[0;34m:\u001b[0m\u001b[0;34m\u001b[0m\u001b[0;34m\u001b[0m\u001b[0m\n\u001b[1;32m   1100\u001b[0m                 \u001b[0mcontext\u001b[0m\u001b[0;34m.\u001b[0m\u001b[0masync_wait\u001b[0m\u001b[0;34m(\u001b[0m\u001b[0;34m)\u001b[0m\u001b[0;34m\u001b[0m\u001b[0;34m\u001b[0m\u001b[0m\n",
      "\u001b[0;32m~/miniconda3/envs/tricks/lib/python3.6/site-packages/tensorflow/python/eager/def_function.py\u001b[0m in \u001b[0;36m__call__\u001b[0;34m(self, *args, **kwds)\u001b[0m\n\u001b[1;32m    778\u001b[0m       \u001b[0;32melse\u001b[0m\u001b[0;34m:\u001b[0m\u001b[0;34m\u001b[0m\u001b[0;34m\u001b[0m\u001b[0m\n\u001b[1;32m    779\u001b[0m         \u001b[0mcompiler\u001b[0m \u001b[0;34m=\u001b[0m \u001b[0;34m\"nonXla\"\u001b[0m\u001b[0;34m\u001b[0m\u001b[0;34m\u001b[0m\u001b[0m\n\u001b[0;32m--> 780\u001b[0;31m         \u001b[0mresult\u001b[0m \u001b[0;34m=\u001b[0m \u001b[0mself\u001b[0m\u001b[0;34m.\u001b[0m\u001b[0m_call\u001b[0m\u001b[0;34m(\u001b[0m\u001b[0;34m*\u001b[0m\u001b[0margs\u001b[0m\u001b[0;34m,\u001b[0m \u001b[0;34m**\u001b[0m\u001b[0mkwds\u001b[0m\u001b[0;34m)\u001b[0m\u001b[0;34m\u001b[0m\u001b[0;34m\u001b[0m\u001b[0m\n\u001b[0m\u001b[1;32m    781\u001b[0m \u001b[0;34m\u001b[0m\u001b[0m\n\u001b[1;32m    782\u001b[0m       \u001b[0mnew_tracing_count\u001b[0m \u001b[0;34m=\u001b[0m \u001b[0mself\u001b[0m\u001b[0;34m.\u001b[0m\u001b[0m_get_tracing_count\u001b[0m\u001b[0;34m(\u001b[0m\u001b[0;34m)\u001b[0m\u001b[0;34m\u001b[0m\u001b[0;34m\u001b[0m\u001b[0m\n",
      "\u001b[0;32m~/miniconda3/envs/tricks/lib/python3.6/site-packages/tensorflow/python/eager/def_function.py\u001b[0m in \u001b[0;36m_call\u001b[0;34m(self, *args, **kwds)\u001b[0m\n\u001b[1;32m    805\u001b[0m       \u001b[0;31m# In this case we have created variables on the first call, so we run the\u001b[0m\u001b[0;34m\u001b[0m\u001b[0;34m\u001b[0m\u001b[0;34m\u001b[0m\u001b[0m\n\u001b[1;32m    806\u001b[0m       \u001b[0;31m# defunned version which is guaranteed to never create variables.\u001b[0m\u001b[0;34m\u001b[0m\u001b[0;34m\u001b[0m\u001b[0;34m\u001b[0m\u001b[0m\n\u001b[0;32m--> 807\u001b[0;31m       \u001b[0;32mreturn\u001b[0m \u001b[0mself\u001b[0m\u001b[0;34m.\u001b[0m\u001b[0m_stateless_fn\u001b[0m\u001b[0;34m(\u001b[0m\u001b[0;34m*\u001b[0m\u001b[0margs\u001b[0m\u001b[0;34m,\u001b[0m \u001b[0;34m**\u001b[0m\u001b[0mkwds\u001b[0m\u001b[0;34m)\u001b[0m  \u001b[0;31m# pylint: disable=not-callable\u001b[0m\u001b[0;34m\u001b[0m\u001b[0;34m\u001b[0m\u001b[0m\n\u001b[0m\u001b[1;32m    808\u001b[0m     \u001b[0;32melif\u001b[0m \u001b[0mself\u001b[0m\u001b[0;34m.\u001b[0m\u001b[0m_stateful_fn\u001b[0m \u001b[0;32mis\u001b[0m \u001b[0;32mnot\u001b[0m \u001b[0;32mNone\u001b[0m\u001b[0;34m:\u001b[0m\u001b[0;34m\u001b[0m\u001b[0;34m\u001b[0m\u001b[0m\n\u001b[1;32m    809\u001b[0m       \u001b[0;31m# Release the lock early so that multiple threads can perform the call\u001b[0m\u001b[0;34m\u001b[0m\u001b[0;34m\u001b[0m\u001b[0;34m\u001b[0m\u001b[0m\n",
      "\u001b[0;32m~/miniconda3/envs/tricks/lib/python3.6/site-packages/tensorflow/python/eager/function.py\u001b[0m in \u001b[0;36m__call__\u001b[0;34m(self, *args, **kwargs)\u001b[0m\n\u001b[1;32m   2827\u001b[0m     \u001b[0;32mwith\u001b[0m \u001b[0mself\u001b[0m\u001b[0;34m.\u001b[0m\u001b[0m_lock\u001b[0m\u001b[0;34m:\u001b[0m\u001b[0;34m\u001b[0m\u001b[0;34m\u001b[0m\u001b[0m\n\u001b[1;32m   2828\u001b[0m       \u001b[0mgraph_function\u001b[0m\u001b[0;34m,\u001b[0m \u001b[0margs\u001b[0m\u001b[0;34m,\u001b[0m \u001b[0mkwargs\u001b[0m \u001b[0;34m=\u001b[0m \u001b[0mself\u001b[0m\u001b[0;34m.\u001b[0m\u001b[0m_maybe_define_function\u001b[0m\u001b[0;34m(\u001b[0m\u001b[0margs\u001b[0m\u001b[0;34m,\u001b[0m \u001b[0mkwargs\u001b[0m\u001b[0;34m)\u001b[0m\u001b[0;34m\u001b[0m\u001b[0;34m\u001b[0m\u001b[0m\n\u001b[0;32m-> 2829\u001b[0;31m     \u001b[0;32mreturn\u001b[0m \u001b[0mgraph_function\u001b[0m\u001b[0;34m.\u001b[0m\u001b[0m_filtered_call\u001b[0m\u001b[0;34m(\u001b[0m\u001b[0margs\u001b[0m\u001b[0;34m,\u001b[0m \u001b[0mkwargs\u001b[0m\u001b[0;34m)\u001b[0m  \u001b[0;31m# pylint: disable=protected-access\u001b[0m\u001b[0;34m\u001b[0m\u001b[0;34m\u001b[0m\u001b[0m\n\u001b[0m\u001b[1;32m   2830\u001b[0m \u001b[0;34m\u001b[0m\u001b[0m\n\u001b[1;32m   2831\u001b[0m   \u001b[0;34m@\u001b[0m\u001b[0mproperty\u001b[0m\u001b[0;34m\u001b[0m\u001b[0;34m\u001b[0m\u001b[0m\n",
      "\u001b[0;32m~/miniconda3/envs/tricks/lib/python3.6/site-packages/tensorflow/python/eager/function.py\u001b[0m in \u001b[0;36m_filtered_call\u001b[0;34m(self, args, kwargs, cancellation_manager)\u001b[0m\n\u001b[1;32m   1846\u001b[0m                            resource_variable_ops.BaseResourceVariable))],\n\u001b[1;32m   1847\u001b[0m         \u001b[0mcaptured_inputs\u001b[0m\u001b[0;34m=\u001b[0m\u001b[0mself\u001b[0m\u001b[0;34m.\u001b[0m\u001b[0mcaptured_inputs\u001b[0m\u001b[0;34m,\u001b[0m\u001b[0;34m\u001b[0m\u001b[0;34m\u001b[0m\u001b[0m\n\u001b[0;32m-> 1848\u001b[0;31m         cancellation_manager=cancellation_manager)\n\u001b[0m\u001b[1;32m   1849\u001b[0m \u001b[0;34m\u001b[0m\u001b[0m\n\u001b[1;32m   1850\u001b[0m   \u001b[0;32mdef\u001b[0m \u001b[0m_call_flat\u001b[0m\u001b[0;34m(\u001b[0m\u001b[0mself\u001b[0m\u001b[0;34m,\u001b[0m \u001b[0margs\u001b[0m\u001b[0;34m,\u001b[0m \u001b[0mcaptured_inputs\u001b[0m\u001b[0;34m,\u001b[0m \u001b[0mcancellation_manager\u001b[0m\u001b[0;34m=\u001b[0m\u001b[0;32mNone\u001b[0m\u001b[0;34m)\u001b[0m\u001b[0;34m:\u001b[0m\u001b[0;34m\u001b[0m\u001b[0;34m\u001b[0m\u001b[0m\n",
      "\u001b[0;32m~/miniconda3/envs/tricks/lib/python3.6/site-packages/tensorflow/python/eager/function.py\u001b[0m in \u001b[0;36m_call_flat\u001b[0;34m(self, args, captured_inputs, cancellation_manager)\u001b[0m\n\u001b[1;32m   1922\u001b[0m       \u001b[0;31m# No tape is watching; skip to running the function.\u001b[0m\u001b[0;34m\u001b[0m\u001b[0;34m\u001b[0m\u001b[0;34m\u001b[0m\u001b[0m\n\u001b[1;32m   1923\u001b[0m       return self._build_call_outputs(self._inference_function.call(\n\u001b[0;32m-> 1924\u001b[0;31m           ctx, args, cancellation_manager=cancellation_manager))\n\u001b[0m\u001b[1;32m   1925\u001b[0m     forward_backward = self._select_forward_and_backward_functions(\n\u001b[1;32m   1926\u001b[0m         \u001b[0margs\u001b[0m\u001b[0;34m,\u001b[0m\u001b[0;34m\u001b[0m\u001b[0;34m\u001b[0m\u001b[0m\n",
      "\u001b[0;32m~/miniconda3/envs/tricks/lib/python3.6/site-packages/tensorflow/python/eager/function.py\u001b[0m in \u001b[0;36mcall\u001b[0;34m(self, ctx, args, cancellation_manager)\u001b[0m\n\u001b[1;32m    548\u001b[0m               \u001b[0minputs\u001b[0m\u001b[0;34m=\u001b[0m\u001b[0margs\u001b[0m\u001b[0;34m,\u001b[0m\u001b[0;34m\u001b[0m\u001b[0;34m\u001b[0m\u001b[0m\n\u001b[1;32m    549\u001b[0m               \u001b[0mattrs\u001b[0m\u001b[0;34m=\u001b[0m\u001b[0mattrs\u001b[0m\u001b[0;34m,\u001b[0m\u001b[0;34m\u001b[0m\u001b[0;34m\u001b[0m\u001b[0m\n\u001b[0;32m--> 550\u001b[0;31m               ctx=ctx)\n\u001b[0m\u001b[1;32m    551\u001b[0m         \u001b[0;32melse\u001b[0m\u001b[0;34m:\u001b[0m\u001b[0;34m\u001b[0m\u001b[0;34m\u001b[0m\u001b[0m\n\u001b[1;32m    552\u001b[0m           outputs = execute.execute_with_cancellation(\n",
      "\u001b[0;32m~/miniconda3/envs/tricks/lib/python3.6/site-packages/tensorflow/python/eager/execute.py\u001b[0m in \u001b[0;36mquick_execute\u001b[0;34m(op_name, num_outputs, inputs, attrs, ctx, name)\u001b[0m\n\u001b[1;32m     58\u001b[0m     \u001b[0mctx\u001b[0m\u001b[0;34m.\u001b[0m\u001b[0mensure_initialized\u001b[0m\u001b[0;34m(\u001b[0m\u001b[0;34m)\u001b[0m\u001b[0;34m\u001b[0m\u001b[0;34m\u001b[0m\u001b[0m\n\u001b[1;32m     59\u001b[0m     tensors = pywrap_tfe.TFE_Py_Execute(ctx._handle, device_name, op_name,\n\u001b[0;32m---> 60\u001b[0;31m                                         inputs, attrs, num_outputs)\n\u001b[0m\u001b[1;32m     61\u001b[0m   \u001b[0;32mexcept\u001b[0m \u001b[0mcore\u001b[0m\u001b[0;34m.\u001b[0m\u001b[0m_NotOkStatusException\u001b[0m \u001b[0;32mas\u001b[0m \u001b[0me\u001b[0m\u001b[0;34m:\u001b[0m\u001b[0;34m\u001b[0m\u001b[0;34m\u001b[0m\u001b[0m\n\u001b[1;32m     62\u001b[0m     \u001b[0;32mif\u001b[0m \u001b[0mname\u001b[0m \u001b[0;32mis\u001b[0m \u001b[0;32mnot\u001b[0m \u001b[0;32mNone\u001b[0m\u001b[0;34m:\u001b[0m\u001b[0;34m\u001b[0m\u001b[0;34m\u001b[0m\u001b[0m\n",
      "\u001b[0;31mKeyboardInterrupt\u001b[0m: "
     ]
    }
   ],
   "source": [
    "from keras.preprocessing.image import ImageDataGenerator\n",
    "\n",
    "train_datagen = ImageDataGenerator(\n",
    "      rescale=1./255,\n",
    "      rotation_range=40,\n",
    "      width_shift_range=0.2,\n",
    "      height_shift_range=0.2,\n",
    "      shear_range=0.2,\n",
    "      zoom_range=0.2,\n",
    "      horizontal_flip=True,\n",
    "      fill_mode='nearest')\n",
    "\n",
    "# Note that the validation data should not be augmented!\n",
    "test_datagen = ImageDataGenerator(rescale=1./255)\n",
    "\n",
    "train_generator = train_datagen.flow_from_directory(\n",
    "        # This is the target directory\n",
    "        train_dir,\n",
    "        # All images will be resized to 150x150\n",
    "        target_size=(150, 150),\n",
    "        batch_size=20,\n",
    "        # Since we use binary_crossentropy loss, we need binary labels\n",
    "        class_mode='binary')\n",
    "\n",
    "validation_generator = test_datagen.flow_from_directory(\n",
    "        validation_dir,\n",
    "        target_size=(150, 150),\n",
    "        batch_size=20,\n",
    "        class_mode='binary')\n",
    "\n",
    "model.compile(loss='binary_crossentropy',\n",
    "              optimizer=optimizers.RMSprop(lr=2e-5),\n",
    "              metrics=['acc'])\n",
    "\n",
    "history = model.fit(\n",
    "      train_generator,\n",
    "      steps_per_epoch=100,\n",
    "      epochs=30,\n",
    "      validation_data=validation_generator,\n",
    "      validation_steps=50,\n",
    "      verbose=2)"
   ]
  },
  {
   "cell_type": "markdown",
   "metadata": {},
   "source": [
    "### Fine-tuning\n",
    "\n",
    "Consists of unfreezing some of the higher-level layers of the convolutional base and put them through the training process. Before you do this, your densely connected classifier must be already trained, otherwise the error signal propagating back into the network will be too large. This will destroy the representations on the layers you want to fine-tune"
   ]
  },
  {
   "cell_type": "markdown",
   "metadata": {},
   "source": [
    "Process for fine-tuning:\n",
    "\n",
    "- Add your customer network on top of an already trained convolutional base\n",
    "- Freeze the base\n",
    "- Train your densely connected layers\n",
    "- Unfreeze some layers in the convolutional base\n",
    "- Jointly train both these layers and your densely connected part"
   ]
  },
  {
   "cell_type": "code",
   "execution_count": 21,
   "metadata": {},
   "outputs": [
    {
     "name": "stdout",
     "output_type": "stream",
     "text": [
      "WARNING:tensorflow:Error in loading the saved optimizer state. As a result, your model is starting with a freshly initialized optimizer.\n"
     ]
    }
   ],
   "source": [
    "model = keras.models.load_model(\"./data/dogs-vs-cats-small/cats_and_dogs_small_pretrained_with_data_augmentation.h5\")"
   ]
  },
  {
   "cell_type": "code",
   "execution_count": 22,
   "metadata": {},
   "outputs": [],
   "source": [
    "conv_base.trainable = True\n",
    "\n",
    "set_trainable = False\n",
    "for layer in conv_base.layers:\n",
    "    if layer.name == 'block5_conv1':\n",
    "        set_trainable = True\n",
    "    if set_trainable:\n",
    "        layer.trainable = True\n",
    "    else:\n",
    "        layer.trainable = False"
   ]
  },
  {
   "cell_type": "code",
   "execution_count": 23,
   "metadata": {},
   "outputs": [
    {
     "name": "stdout",
     "output_type": "stream",
     "text": [
      "Epoch 1/30\n",
      " 45/100 [============>.................] - ETA: 2:25 - loss: 0.3538 - acc: 0.8556"
     ]
    },
    {
     "ename": "KeyboardInterrupt",
     "evalue": "",
     "output_type": "error",
     "traceback": [
      "\u001b[0;31m---------------------------------------------------------------------------\u001b[0m",
      "\u001b[0;31mKeyboardInterrupt\u001b[0m                         Traceback (most recent call last)",
      "\u001b[0;32m<ipython-input-23-e900ecf3a95b>\u001b[0m in \u001b[0;36m<module>\u001b[0;34m\u001b[0m\n\u001b[1;32m      8\u001b[0m       \u001b[0mepochs\u001b[0m\u001b[0;34m=\u001b[0m\u001b[0;36m30\u001b[0m\u001b[0;34m,\u001b[0m\u001b[0;34m\u001b[0m\u001b[0;34m\u001b[0m\u001b[0m\n\u001b[1;32m      9\u001b[0m       \u001b[0mvalidation_data\u001b[0m\u001b[0;34m=\u001b[0m\u001b[0mvalidation_generator\u001b[0m\u001b[0;34m,\u001b[0m\u001b[0;34m\u001b[0m\u001b[0;34m\u001b[0m\u001b[0m\n\u001b[0;32m---> 10\u001b[0;31m       validation_steps=50)\n\u001b[0m",
      "\u001b[0;32m~/miniconda3/envs/tricks/lib/python3.6/site-packages/tensorflow/python/keras/engine/training.py\u001b[0m in \u001b[0;36m_method_wrapper\u001b[0;34m(self, *args, **kwargs)\u001b[0m\n\u001b[1;32m    106\u001b[0m   \u001b[0;32mdef\u001b[0m \u001b[0m_method_wrapper\u001b[0m\u001b[0;34m(\u001b[0m\u001b[0mself\u001b[0m\u001b[0;34m,\u001b[0m \u001b[0;34m*\u001b[0m\u001b[0margs\u001b[0m\u001b[0;34m,\u001b[0m \u001b[0;34m**\u001b[0m\u001b[0mkwargs\u001b[0m\u001b[0;34m)\u001b[0m\u001b[0;34m:\u001b[0m\u001b[0;34m\u001b[0m\u001b[0;34m\u001b[0m\u001b[0m\n\u001b[1;32m    107\u001b[0m     \u001b[0;32mif\u001b[0m \u001b[0;32mnot\u001b[0m \u001b[0mself\u001b[0m\u001b[0;34m.\u001b[0m\u001b[0m_in_multi_worker_mode\u001b[0m\u001b[0;34m(\u001b[0m\u001b[0;34m)\u001b[0m\u001b[0;34m:\u001b[0m  \u001b[0;31m# pylint: disable=protected-access\u001b[0m\u001b[0;34m\u001b[0m\u001b[0;34m\u001b[0m\u001b[0m\n\u001b[0;32m--> 108\u001b[0;31m       \u001b[0;32mreturn\u001b[0m \u001b[0mmethod\u001b[0m\u001b[0;34m(\u001b[0m\u001b[0mself\u001b[0m\u001b[0;34m,\u001b[0m \u001b[0;34m*\u001b[0m\u001b[0margs\u001b[0m\u001b[0;34m,\u001b[0m \u001b[0;34m**\u001b[0m\u001b[0mkwargs\u001b[0m\u001b[0;34m)\u001b[0m\u001b[0;34m\u001b[0m\u001b[0;34m\u001b[0m\u001b[0m\n\u001b[0m\u001b[1;32m    109\u001b[0m \u001b[0;34m\u001b[0m\u001b[0m\n\u001b[1;32m    110\u001b[0m     \u001b[0;31m# Running inside `run_distribute_coordinator` already.\u001b[0m\u001b[0;34m\u001b[0m\u001b[0;34m\u001b[0m\u001b[0;34m\u001b[0m\u001b[0m\n",
      "\u001b[0;32m~/miniconda3/envs/tricks/lib/python3.6/site-packages/tensorflow/python/keras/engine/training.py\u001b[0m in \u001b[0;36mfit\u001b[0;34m(self, x, y, batch_size, epochs, verbose, callbacks, validation_split, validation_data, shuffle, class_weight, sample_weight, initial_epoch, steps_per_epoch, validation_steps, validation_batch_size, validation_freq, max_queue_size, workers, use_multiprocessing)\u001b[0m\n\u001b[1;32m   1096\u001b[0m                 batch_size=batch_size):\n\u001b[1;32m   1097\u001b[0m               \u001b[0mcallbacks\u001b[0m\u001b[0;34m.\u001b[0m\u001b[0mon_train_batch_begin\u001b[0m\u001b[0;34m(\u001b[0m\u001b[0mstep\u001b[0m\u001b[0;34m)\u001b[0m\u001b[0;34m\u001b[0m\u001b[0;34m\u001b[0m\u001b[0m\n\u001b[0;32m-> 1098\u001b[0;31m               \u001b[0mtmp_logs\u001b[0m \u001b[0;34m=\u001b[0m \u001b[0mtrain_function\u001b[0m\u001b[0;34m(\u001b[0m\u001b[0miterator\u001b[0m\u001b[0;34m)\u001b[0m\u001b[0;34m\u001b[0m\u001b[0;34m\u001b[0m\u001b[0m\n\u001b[0m\u001b[1;32m   1099\u001b[0m               \u001b[0;32mif\u001b[0m \u001b[0mdata_handler\u001b[0m\u001b[0;34m.\u001b[0m\u001b[0mshould_sync\u001b[0m\u001b[0;34m:\u001b[0m\u001b[0;34m\u001b[0m\u001b[0;34m\u001b[0m\u001b[0m\n\u001b[1;32m   1100\u001b[0m                 \u001b[0mcontext\u001b[0m\u001b[0;34m.\u001b[0m\u001b[0masync_wait\u001b[0m\u001b[0;34m(\u001b[0m\u001b[0;34m)\u001b[0m\u001b[0;34m\u001b[0m\u001b[0;34m\u001b[0m\u001b[0m\n",
      "\u001b[0;32m~/miniconda3/envs/tricks/lib/python3.6/site-packages/tensorflow/python/eager/def_function.py\u001b[0m in \u001b[0;36m__call__\u001b[0;34m(self, *args, **kwds)\u001b[0m\n\u001b[1;32m    778\u001b[0m       \u001b[0;32melse\u001b[0m\u001b[0;34m:\u001b[0m\u001b[0;34m\u001b[0m\u001b[0;34m\u001b[0m\u001b[0m\n\u001b[1;32m    779\u001b[0m         \u001b[0mcompiler\u001b[0m \u001b[0;34m=\u001b[0m \u001b[0;34m\"nonXla\"\u001b[0m\u001b[0;34m\u001b[0m\u001b[0;34m\u001b[0m\u001b[0m\n\u001b[0;32m--> 780\u001b[0;31m         \u001b[0mresult\u001b[0m \u001b[0;34m=\u001b[0m \u001b[0mself\u001b[0m\u001b[0;34m.\u001b[0m\u001b[0m_call\u001b[0m\u001b[0;34m(\u001b[0m\u001b[0;34m*\u001b[0m\u001b[0margs\u001b[0m\u001b[0;34m,\u001b[0m \u001b[0;34m**\u001b[0m\u001b[0mkwds\u001b[0m\u001b[0;34m)\u001b[0m\u001b[0;34m\u001b[0m\u001b[0;34m\u001b[0m\u001b[0m\n\u001b[0m\u001b[1;32m    781\u001b[0m \u001b[0;34m\u001b[0m\u001b[0m\n\u001b[1;32m    782\u001b[0m       \u001b[0mnew_tracing_count\u001b[0m \u001b[0;34m=\u001b[0m \u001b[0mself\u001b[0m\u001b[0;34m.\u001b[0m\u001b[0m_get_tracing_count\u001b[0m\u001b[0;34m(\u001b[0m\u001b[0;34m)\u001b[0m\u001b[0;34m\u001b[0m\u001b[0;34m\u001b[0m\u001b[0m\n",
      "\u001b[0;32m~/miniconda3/envs/tricks/lib/python3.6/site-packages/tensorflow/python/eager/def_function.py\u001b[0m in \u001b[0;36m_call\u001b[0;34m(self, *args, **kwds)\u001b[0m\n\u001b[1;32m    805\u001b[0m       \u001b[0;31m# In this case we have created variables on the first call, so we run the\u001b[0m\u001b[0;34m\u001b[0m\u001b[0;34m\u001b[0m\u001b[0;34m\u001b[0m\u001b[0m\n\u001b[1;32m    806\u001b[0m       \u001b[0;31m# defunned version which is guaranteed to never create variables.\u001b[0m\u001b[0;34m\u001b[0m\u001b[0;34m\u001b[0m\u001b[0;34m\u001b[0m\u001b[0m\n\u001b[0;32m--> 807\u001b[0;31m       \u001b[0;32mreturn\u001b[0m \u001b[0mself\u001b[0m\u001b[0;34m.\u001b[0m\u001b[0m_stateless_fn\u001b[0m\u001b[0;34m(\u001b[0m\u001b[0;34m*\u001b[0m\u001b[0margs\u001b[0m\u001b[0;34m,\u001b[0m \u001b[0;34m**\u001b[0m\u001b[0mkwds\u001b[0m\u001b[0;34m)\u001b[0m  \u001b[0;31m# pylint: disable=not-callable\u001b[0m\u001b[0;34m\u001b[0m\u001b[0;34m\u001b[0m\u001b[0m\n\u001b[0m\u001b[1;32m    808\u001b[0m     \u001b[0;32melif\u001b[0m \u001b[0mself\u001b[0m\u001b[0;34m.\u001b[0m\u001b[0m_stateful_fn\u001b[0m \u001b[0;32mis\u001b[0m \u001b[0;32mnot\u001b[0m \u001b[0;32mNone\u001b[0m\u001b[0;34m:\u001b[0m\u001b[0;34m\u001b[0m\u001b[0;34m\u001b[0m\u001b[0m\n\u001b[1;32m    809\u001b[0m       \u001b[0;31m# Release the lock early so that multiple threads can perform the call\u001b[0m\u001b[0;34m\u001b[0m\u001b[0;34m\u001b[0m\u001b[0;34m\u001b[0m\u001b[0m\n",
      "\u001b[0;32m~/miniconda3/envs/tricks/lib/python3.6/site-packages/tensorflow/python/eager/function.py\u001b[0m in \u001b[0;36m__call__\u001b[0;34m(self, *args, **kwargs)\u001b[0m\n\u001b[1;32m   2827\u001b[0m     \u001b[0;32mwith\u001b[0m \u001b[0mself\u001b[0m\u001b[0;34m.\u001b[0m\u001b[0m_lock\u001b[0m\u001b[0;34m:\u001b[0m\u001b[0;34m\u001b[0m\u001b[0;34m\u001b[0m\u001b[0m\n\u001b[1;32m   2828\u001b[0m       \u001b[0mgraph_function\u001b[0m\u001b[0;34m,\u001b[0m \u001b[0margs\u001b[0m\u001b[0;34m,\u001b[0m \u001b[0mkwargs\u001b[0m \u001b[0;34m=\u001b[0m \u001b[0mself\u001b[0m\u001b[0;34m.\u001b[0m\u001b[0m_maybe_define_function\u001b[0m\u001b[0;34m(\u001b[0m\u001b[0margs\u001b[0m\u001b[0;34m,\u001b[0m \u001b[0mkwargs\u001b[0m\u001b[0;34m)\u001b[0m\u001b[0;34m\u001b[0m\u001b[0;34m\u001b[0m\u001b[0m\n\u001b[0;32m-> 2829\u001b[0;31m     \u001b[0;32mreturn\u001b[0m \u001b[0mgraph_function\u001b[0m\u001b[0;34m.\u001b[0m\u001b[0m_filtered_call\u001b[0m\u001b[0;34m(\u001b[0m\u001b[0margs\u001b[0m\u001b[0;34m,\u001b[0m \u001b[0mkwargs\u001b[0m\u001b[0;34m)\u001b[0m  \u001b[0;31m# pylint: disable=protected-access\u001b[0m\u001b[0;34m\u001b[0m\u001b[0;34m\u001b[0m\u001b[0m\n\u001b[0m\u001b[1;32m   2830\u001b[0m \u001b[0;34m\u001b[0m\u001b[0m\n\u001b[1;32m   2831\u001b[0m   \u001b[0;34m@\u001b[0m\u001b[0mproperty\u001b[0m\u001b[0;34m\u001b[0m\u001b[0;34m\u001b[0m\u001b[0m\n",
      "\u001b[0;32m~/miniconda3/envs/tricks/lib/python3.6/site-packages/tensorflow/python/eager/function.py\u001b[0m in \u001b[0;36m_filtered_call\u001b[0;34m(self, args, kwargs, cancellation_manager)\u001b[0m\n\u001b[1;32m   1846\u001b[0m                            resource_variable_ops.BaseResourceVariable))],\n\u001b[1;32m   1847\u001b[0m         \u001b[0mcaptured_inputs\u001b[0m\u001b[0;34m=\u001b[0m\u001b[0mself\u001b[0m\u001b[0;34m.\u001b[0m\u001b[0mcaptured_inputs\u001b[0m\u001b[0;34m,\u001b[0m\u001b[0;34m\u001b[0m\u001b[0;34m\u001b[0m\u001b[0m\n\u001b[0;32m-> 1848\u001b[0;31m         cancellation_manager=cancellation_manager)\n\u001b[0m\u001b[1;32m   1849\u001b[0m \u001b[0;34m\u001b[0m\u001b[0m\n\u001b[1;32m   1850\u001b[0m   \u001b[0;32mdef\u001b[0m \u001b[0m_call_flat\u001b[0m\u001b[0;34m(\u001b[0m\u001b[0mself\u001b[0m\u001b[0;34m,\u001b[0m \u001b[0margs\u001b[0m\u001b[0;34m,\u001b[0m \u001b[0mcaptured_inputs\u001b[0m\u001b[0;34m,\u001b[0m \u001b[0mcancellation_manager\u001b[0m\u001b[0;34m=\u001b[0m\u001b[0;32mNone\u001b[0m\u001b[0;34m)\u001b[0m\u001b[0;34m:\u001b[0m\u001b[0;34m\u001b[0m\u001b[0;34m\u001b[0m\u001b[0m\n",
      "\u001b[0;32m~/miniconda3/envs/tricks/lib/python3.6/site-packages/tensorflow/python/eager/function.py\u001b[0m in \u001b[0;36m_call_flat\u001b[0;34m(self, args, captured_inputs, cancellation_manager)\u001b[0m\n\u001b[1;32m   1922\u001b[0m       \u001b[0;31m# No tape is watching; skip to running the function.\u001b[0m\u001b[0;34m\u001b[0m\u001b[0;34m\u001b[0m\u001b[0;34m\u001b[0m\u001b[0m\n\u001b[1;32m   1923\u001b[0m       return self._build_call_outputs(self._inference_function.call(\n\u001b[0;32m-> 1924\u001b[0;31m           ctx, args, cancellation_manager=cancellation_manager))\n\u001b[0m\u001b[1;32m   1925\u001b[0m     forward_backward = self._select_forward_and_backward_functions(\n\u001b[1;32m   1926\u001b[0m         \u001b[0margs\u001b[0m\u001b[0;34m,\u001b[0m\u001b[0;34m\u001b[0m\u001b[0;34m\u001b[0m\u001b[0m\n",
      "\u001b[0;32m~/miniconda3/envs/tricks/lib/python3.6/site-packages/tensorflow/python/eager/function.py\u001b[0m in \u001b[0;36mcall\u001b[0;34m(self, ctx, args, cancellation_manager)\u001b[0m\n\u001b[1;32m    548\u001b[0m               \u001b[0minputs\u001b[0m\u001b[0;34m=\u001b[0m\u001b[0margs\u001b[0m\u001b[0;34m,\u001b[0m\u001b[0;34m\u001b[0m\u001b[0;34m\u001b[0m\u001b[0m\n\u001b[1;32m    549\u001b[0m               \u001b[0mattrs\u001b[0m\u001b[0;34m=\u001b[0m\u001b[0mattrs\u001b[0m\u001b[0;34m,\u001b[0m\u001b[0;34m\u001b[0m\u001b[0;34m\u001b[0m\u001b[0m\n\u001b[0;32m--> 550\u001b[0;31m               ctx=ctx)\n\u001b[0m\u001b[1;32m    551\u001b[0m         \u001b[0;32melse\u001b[0m\u001b[0;34m:\u001b[0m\u001b[0;34m\u001b[0m\u001b[0;34m\u001b[0m\u001b[0m\n\u001b[1;32m    552\u001b[0m           outputs = execute.execute_with_cancellation(\n",
      "\u001b[0;32m~/miniconda3/envs/tricks/lib/python3.6/site-packages/tensorflow/python/eager/execute.py\u001b[0m in \u001b[0;36mquick_execute\u001b[0;34m(op_name, num_outputs, inputs, attrs, ctx, name)\u001b[0m\n\u001b[1;32m     58\u001b[0m     \u001b[0mctx\u001b[0m\u001b[0;34m.\u001b[0m\u001b[0mensure_initialized\u001b[0m\u001b[0;34m(\u001b[0m\u001b[0;34m)\u001b[0m\u001b[0;34m\u001b[0m\u001b[0;34m\u001b[0m\u001b[0m\n\u001b[1;32m     59\u001b[0m     tensors = pywrap_tfe.TFE_Py_Execute(ctx._handle, device_name, op_name,\n\u001b[0;32m---> 60\u001b[0;31m                                         inputs, attrs, num_outputs)\n\u001b[0m\u001b[1;32m     61\u001b[0m   \u001b[0;32mexcept\u001b[0m \u001b[0mcore\u001b[0m\u001b[0;34m.\u001b[0m\u001b[0m_NotOkStatusException\u001b[0m \u001b[0;32mas\u001b[0m \u001b[0me\u001b[0m\u001b[0;34m:\u001b[0m\u001b[0;34m\u001b[0m\u001b[0;34m\u001b[0m\u001b[0m\n\u001b[1;32m     62\u001b[0m     \u001b[0;32mif\u001b[0m \u001b[0mname\u001b[0m \u001b[0;32mis\u001b[0m \u001b[0;32mnot\u001b[0m \u001b[0;32mNone\u001b[0m\u001b[0;34m:\u001b[0m\u001b[0;34m\u001b[0m\u001b[0;34m\u001b[0m\u001b[0m\n",
      "\u001b[0;31mKeyboardInterrupt\u001b[0m: "
     ]
    }
   ],
   "source": [
    "model.compile(loss='binary_crossentropy',\n",
    "              optimizer=optimizers.RMSprop(lr=1e-5),\n",
    "              metrics=['acc'])\n",
    "\n",
    "history = model.fit(\n",
    "      train_generator,\n",
    "      steps_per_epoch=100,\n",
    "      epochs=30,\n",
    "      validation_data=validation_generator,\n",
    "      validation_steps=50)"
   ]
  },
  {
   "cell_type": "code",
   "execution_count": null,
   "metadata": {},
   "outputs": [],
   "source": [
    "acc = history.history['acc']\n",
    "val_acc = history.history['val_acc']\n",
    "loss = history.history['loss']\n",
    "val_loss = history.history['val_loss']\n",
    "\n",
    "epochs = range(len(acc))\n",
    "\n",
    "plt.plot(epochs, acc, 'bo', label='Training acc')\n",
    "plt.plot(epochs, val_acc, 'b', label='Validation acc')\n",
    "plt.title('Training and validation accuracy')\n",
    "plt.legend()\n",
    "\n",
    "plt.figure()\n",
    "\n",
    "plt.plot(epochs, loss, 'bo', label='Training loss')\n",
    "plt.plot(epochs, val_loss, 'b', label='Validation loss')\n",
    "plt.title('Training and validation loss')\n",
    "plt.legend()\n",
    "\n",
    "plt.show()"
   ]
  },
  {
   "cell_type": "markdown",
   "metadata": {},
   "source": [
    "### Run on the test data set"
   ]
  },
  {
   "cell_type": "code",
   "execution_count": null,
   "metadata": {},
   "outputs": [],
   "source": [
    "test_generator = test_datagen.flow_from_directory(\n",
    "        test_dir,\n",
    "        target_size=(150, 150),\n",
    "        batch_size=20,\n",
    "        class_mode='binary')\n",
    "\n",
    "test_loss, test_acc = model.evaluate_generator(test_generator, steps=50)\n",
    "print('test acc:', test_acc)"
   ]
  }
 ],
 "metadata": {
  "kernelspec": {
   "display_name": "Python 3",
   "language": "python",
   "name": "python3"
  },
  "language_info": {
   "codemirror_mode": {
    "name": "ipython",
    "version": 3
   },
   "file_extension": ".py",
   "mimetype": "text/x-python",
   "name": "python",
   "nbconvert_exporter": "python",
   "pygments_lexer": "ipython3",
   "version": "3.6.11"
  }
 },
 "nbformat": 4,
 "nbformat_minor": 4
}
