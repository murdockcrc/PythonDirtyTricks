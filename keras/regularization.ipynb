{
 "cells": [
  {
   "cell_type": "markdown",
   "metadata": {},
   "source": [
    "_Examples taken from François Chollet's book, Deeplearning with Python_\n",
    "\n",
    "https://github.com/fchollet/deep-learning-with-python-notebooks/blob/master/4.4-overfitting-and-underfitting.ipynb"
   ]
  },
  {
   "cell_type": "code",
   "execution_count": 1,
   "metadata": {},
   "outputs": [],
   "source": [
    "import keras"
   ]
  },
  {
   "cell_type": "markdown",
   "metadata": {},
   "source": [
    "# Fighting overfitting\n",
    "\n",
    "We will take the IMDB dataset from Keras and start applying various technique to reduce overfitting"
   ]
  },
  {
   "cell_type": "markdown",
   "metadata": {},
   "source": [
    "# Load the data"
   ]
  },
  {
   "cell_type": "code",
   "execution_count": 3,
   "metadata": {},
   "outputs": [],
   "source": [
    "from keras.datasets import imdb\n",
    "import numpy as np\n",
    "\n",
    "(train_data, train_labels), (test_data, test_labels) = imdb.load_data(num_words=10000)\n",
    "\n",
    "def vectorize_sequences(sequences, dimension=10000):\n",
    "    # Create an all-zero matrix of shape (len(sequences), dimension)\n",
    "    results = np.zeros((len(sequences), dimension))\n",
    "    for i, sequence in enumerate(sequences):\n",
    "        results[i, sequence] = 1.  # set specific indices of results[i] to 1s\n",
    "    return results\n",
    "\n",
    "# Our vectorized training data\n",
    "x_train = vectorize_sequences(train_data)\n",
    "# Our vectorized test data\n",
    "x_test = vectorize_sequences(test_data)\n",
    "# Our vectorized labels\n",
    "y_train = np.asarray(train_labels).astype('float32')\n",
    "y_test = np.asarray(test_labels).astype('float32')"
   ]
  },
  {
   "cell_type": "markdown",
   "metadata": {},
   "source": [
    "# Load the original model"
   ]
  },
  {
   "cell_type": "code",
   "execution_count": 4,
   "metadata": {},
   "outputs": [],
   "source": [
    "from keras import models\n",
    "from keras import layers\n",
    "\n",
    "original_model = models.Sequential()\n",
    "original_model.add(layers.Dense(16, activation='relu', input_shape=(10000,)))\n",
    "original_model.add(layers.Dense(16, activation='relu'))\n",
    "original_model.add(layers.Dense(1, activation='sigmoid'))\n",
    "\n",
    "original_model.compile(optimizer='rmsprop',\n",
    "                       loss='binary_crossentropy',\n",
    "                       metrics=['acc'])"
   ]
  },
  {
   "cell_type": "markdown",
   "metadata": {},
   "source": [
    "# Reduce the network size"
   ]
  },
  {
   "cell_type": "code",
   "execution_count": 5,
   "metadata": {},
   "outputs": [],
   "source": [
    "smaller_model = models.Sequential()\n",
    "smaller_model.add(layers.Dense(4, activation='relu', input_shape=(10000,)))\n",
    "smaller_model.add(layers.Dense(4, activation='relu'))\n",
    "smaller_model.add(layers.Dense(1, activation='sigmoid'))\n",
    "\n",
    "smaller_model.compile(optimizer='rmsprop',\n",
    "                      loss='binary_crossentropy',\n",
    "                      metrics=['acc'])"
   ]
  },
  {
   "cell_type": "markdown",
   "metadata": {},
   "source": [
    "# Fit the original model"
   ]
  },
  {
   "cell_type": "code",
   "execution_count": 6,
   "metadata": {},
   "outputs": [
    {
     "name": "stdout",
     "output_type": "stream",
     "text": [
      "Epoch 1/20\n",
      "49/49 [==============================] - 1s 29ms/step - loss: 0.4592 - acc: 0.8178 - val_loss: 0.3433 - val_acc: 0.8797\n",
      "Epoch 2/20\n",
      "49/49 [==============================] - 1s 13ms/step - loss: 0.2658 - acc: 0.9087 - val_loss: 0.2842 - val_acc: 0.8898\n",
      "Epoch 3/20\n",
      "49/49 [==============================] - 1s 14ms/step - loss: 0.2029 - acc: 0.9294 - val_loss: 0.2924 - val_acc: 0.8817\n",
      "Epoch 4/20\n",
      "49/49 [==============================] - 1s 13ms/step - loss: 0.1709 - acc: 0.9392 - val_loss: 0.3144 - val_acc: 0.8746\n",
      "Epoch 5/20\n",
      "49/49 [==============================] - 1s 13ms/step - loss: 0.1476 - acc: 0.9482 - val_loss: 0.3120 - val_acc: 0.8796\n",
      "Epoch 6/20\n",
      "49/49 [==============================] - 1s 12ms/step - loss: 0.1259 - acc: 0.9576 - val_loss: 0.3358 - val_acc: 0.8748\n",
      "Epoch 7/20\n",
      "49/49 [==============================] - 1s 13ms/step - loss: 0.1113 - acc: 0.9624 - val_loss: 0.3575 - val_acc: 0.8725\n",
      "Epoch 8/20\n",
      "49/49 [==============================] - 1s 12ms/step - loss: 0.1003 - acc: 0.9660 - val_loss: 0.3743 - val_acc: 0.8708\n",
      "Epoch 9/20\n",
      "49/49 [==============================] - 1s 13ms/step - loss: 0.0864 - acc: 0.9725 - val_loss: 0.4492 - val_acc: 0.8569\n",
      "Epoch 10/20\n",
      "49/49 [==============================] - 1s 12ms/step - loss: 0.0752 - acc: 0.9777 - val_loss: 0.4254 - val_acc: 0.8666\n",
      "Epoch 11/20\n",
      "49/49 [==============================] - 1s 12ms/step - loss: 0.0650 - acc: 0.9801 - val_loss: 0.4618 - val_acc: 0.8612\n",
      "Epoch 12/20\n",
      "49/49 [==============================] - 1s 12ms/step - loss: 0.0556 - acc: 0.9839 - val_loss: 0.4957 - val_acc: 0.8595\n",
      "Epoch 13/20\n",
      "49/49 [==============================] - 1s 13ms/step - loss: 0.0476 - acc: 0.9865 - val_loss: 0.5269 - val_acc: 0.8578\n",
      "Epoch 14/20\n",
      "49/49 [==============================] - 1s 13ms/step - loss: 0.0408 - acc: 0.9890 - val_loss: 0.5780 - val_acc: 0.8536\n",
      "Epoch 15/20\n",
      "49/49 [==============================] - 1s 12ms/step - loss: 0.0341 - acc: 0.9909 - val_loss: 0.7101 - val_acc: 0.8414\n",
      "Epoch 16/20\n",
      "49/49 [==============================] - 1s 13ms/step - loss: 0.0287 - acc: 0.9928 - val_loss: 0.6525 - val_acc: 0.8517\n",
      "Epoch 17/20\n",
      "49/49 [==============================] - 1s 12ms/step - loss: 0.0227 - acc: 0.9948 - val_loss: 0.6719 - val_acc: 0.8510\n",
      "Epoch 18/20\n",
      "49/49 [==============================] - 1s 12ms/step - loss: 0.0194 - acc: 0.9956 - val_loss: 0.7552 - val_acc: 0.8474\n",
      "Epoch 19/20\n",
      "49/49 [==============================] - 1s 12ms/step - loss: 0.0165 - acc: 0.9966 - val_loss: 0.7520 - val_acc: 0.8505\n",
      "Epoch 20/20\n",
      "49/49 [==============================] - 1s 12ms/step - loss: 0.0114 - acc: 0.9983 - val_loss: 0.7971 - val_acc: 0.8477\n"
     ]
    }
   ],
   "source": [
    "original_hist = original_model.fit(x_train, y_train,\n",
    "                                   epochs=20,\n",
    "                                   batch_size=512,\n",
    "                                   validation_data=(x_test, y_test))"
   ]
  },
  {
   "cell_type": "markdown",
   "metadata": {},
   "source": [
    "# Fit the smaller model"
   ]
  },
  {
   "cell_type": "code",
   "execution_count": 7,
   "metadata": {},
   "outputs": [
    {
     "name": "stdout",
     "output_type": "stream",
     "text": [
      "Epoch 1/20\n",
      "49/49 [==============================] - 1s 24ms/step - loss: 0.5807 - acc: 0.6976 - val_loss: 0.5281 - val_acc: 0.7772\n",
      "Epoch 2/20\n",
      "49/49 [==============================] - 1s 11ms/step - loss: 0.4836 - acc: 0.8468 - val_loss: 0.4823 - val_acc: 0.8396\n",
      "Epoch 3/20\n",
      "49/49 [==============================] - 1s 11ms/step - loss: 0.4356 - acc: 0.8932 - val_loss: 0.4551 - val_acc: 0.8715\n",
      "Epoch 4/20\n",
      "49/49 [==============================] - 1s 11ms/step - loss: 0.4006 - acc: 0.9164 - val_loss: 0.4403 - val_acc: 0.8680\n",
      "Epoch 5/20\n",
      "49/49 [==============================] - 1s 11ms/step - loss: 0.3704 - acc: 0.9305 - val_loss: 0.4265 - val_acc: 0.8756\n",
      "Epoch 6/20\n",
      "49/49 [==============================] - 1s 11ms/step - loss: 0.3438 - acc: 0.9420 - val_loss: 0.4174 - val_acc: 0.8749\n",
      "Epoch 7/20\n",
      "49/49 [==============================] - 1s 11ms/step - loss: 0.3186 - acc: 0.9496 - val_loss: 0.4140 - val_acc: 0.8734\n",
      "Epoch 8/20\n",
      "49/49 [==============================] - 1s 11ms/step - loss: 0.2957 - acc: 0.9554 - val_loss: 0.4064 - val_acc: 0.8726\n",
      "Epoch 9/20\n",
      "49/49 [==============================] - 1s 11ms/step - loss: 0.2733 - acc: 0.9609 - val_loss: 0.4212 - val_acc: 0.8685\n",
      "Epoch 10/20\n",
      "49/49 [==============================] - 1s 11ms/step - loss: 0.2525 - acc: 0.9647 - val_loss: 0.4042 - val_acc: 0.8710\n",
      "Epoch 11/20\n",
      "49/49 [==============================] - 1s 11ms/step - loss: 0.2322 - acc: 0.9687 - val_loss: 0.4339 - val_acc: 0.8645\n",
      "Epoch 12/20\n",
      "49/49 [==============================] - 1s 11ms/step - loss: 0.2133 - acc: 0.9709 - val_loss: 0.4295 - val_acc: 0.8656\n",
      "Epoch 13/20\n",
      "49/49 [==============================] - 1s 11ms/step - loss: 0.1950 - acc: 0.9738 - val_loss: 0.4244 - val_acc: 0.8655\n",
      "Epoch 14/20\n",
      "49/49 [==============================] - 1s 11ms/step - loss: 0.1785 - acc: 0.9755 - val_loss: 0.4407 - val_acc: 0.8632\n",
      "Epoch 15/20\n",
      "49/49 [==============================] - 1s 12ms/step - loss: 0.1627 - acc: 0.9776 - val_loss: 0.4854 - val_acc: 0.8589\n",
      "Epoch 16/20\n",
      "49/49 [==============================] - 1s 11ms/step - loss: 0.1473 - acc: 0.9795 - val_loss: 0.4259 - val_acc: 0.8604\n",
      "Epoch 17/20\n",
      "49/49 [==============================] - 1s 11ms/step - loss: 0.1343 - acc: 0.9806 - val_loss: 0.4784 - val_acc: 0.8590\n",
      "Epoch 18/20\n",
      "49/49 [==============================] - 1s 12ms/step - loss: 0.1213 - acc: 0.9827 - val_loss: 0.4684 - val_acc: 0.8595\n",
      "Epoch 19/20\n",
      "49/49 [==============================] - 1s 12ms/step - loss: 0.1097 - acc: 0.9834 - val_loss: 0.4972 - val_acc: 0.8592\n",
      "Epoch 20/20\n",
      "49/49 [==============================] - 1s 12ms/step - loss: 0.0997 - acc: 0.9845 - val_loss: 0.5424 - val_acc: 0.8576\n"
     ]
    }
   ],
   "source": [
    "smaller_model_hist = smaller_model.fit(x_train, y_train,\n",
    "                                       epochs=20,\n",
    "                                       batch_size=512,\n",
    "                                       validation_data=(x_test, y_test))"
   ]
  },
  {
   "cell_type": "markdown",
   "metadata": {},
   "source": [
    "# Compare the loss between models"
   ]
  },
  {
   "cell_type": "code",
   "execution_count": 8,
   "metadata": {},
   "outputs": [],
   "source": [
    "epochs = range(1, 21)\n",
    "original_val_loss = original_hist.history['val_loss']\n",
    "smaller_model_val_loss = smaller_model_hist.history['val_loss']"
   ]
  },
  {
   "cell_type": "code",
   "execution_count": 9,
   "metadata": {},
   "outputs": [
    {
     "data": {
      "image/png": "[encoded data removed]",
      "text/plain": [
       "<Figure size 432x288 with 1 Axes>"
      ]
     },
     "metadata": {
      "needs_background": "light"
     },
     "output_type": "display_data"
    }
   ],
   "source": [
    "import matplotlib.pyplot as plt\n",
    "\n",
    "# b+ is for \"blue cross\"\n",
    "plt.plot(epochs, original_val_loss, 'b+', label='Original model')\n",
    "# \"bo\" is for \"blue dot\"\n",
    "plt.plot(epochs, smaller_model_val_loss, 'bo', label='Smaller model')\n",
    "plt.xlabel('Epochs')\n",
    "plt.ylabel('Validation loss')\n",
    "plt.legend()\n",
    "\n",
    "plt.show()"
   ]
  },
  {
   "cell_type": "markdown",
   "metadata": {},
   "source": [
    "# Add weight regularization"
   ]
  },
  {
   "cell_type": "code",
   "execution_count": 10,
   "metadata": {},
   "outputs": [],
   "source": [
    "from keras import regularizers\n",
    "\n",
    "l2_model = models.Sequential()\n",
    "l2_model.add(layers.Dense(16, kernel_regularizer=regularizers.l2(0.001),\n",
    "                          activation='relu', input_shape=(10000,)))\n",
    "l2_model.add(layers.Dense(16, kernel_regularizer=regularizers.l2(0.001),\n",
    "                          activation='relu'))\n",
    "l2_model.add(layers.Dense(1, activation='sigmoid'))"
   ]
  },
  {
   "cell_type": "code",
   "execution_count": 11,
   "metadata": {},
   "outputs": [],
   "source": [
    "l2_model.compile(optimizer='rmsprop',\n",
    "                 loss='binary_crossentropy',\n",
    "                 metrics=['acc'])"
   ]
  },
  {
   "cell_type": "code",
   "execution_count": 12,
   "metadata": {},
   "outputs": [
    {
     "name": "stdout",
     "output_type": "stream",
     "text": [
      "Epoch 1/20\n",
      "49/49 [==============================] - 1s 26ms/step - loss: 0.5231 - acc: 0.8158 - val_loss: 0.4141 - val_acc: 0.8691\n",
      "Epoch 2/20\n",
      "49/49 [==============================] - 1s 14ms/step - loss: 0.3413 - acc: 0.9007 - val_loss: 0.3505 - val_acc: 0.8864\n",
      "Epoch 3/20\n",
      "49/49 [==============================] - 1s 13ms/step - loss: 0.2898 - acc: 0.9158 - val_loss: 0.3367 - val_acc: 0.8867\n",
      "Epoch 4/20\n",
      "49/49 [==============================] - 1s 13ms/step - loss: 0.2661 - acc: 0.9242 - val_loss: 0.3336 - val_acc: 0.8888\n",
      "Epoch 5/20\n",
      "49/49 [==============================] - 1s 14ms/step - loss: 0.2526 - acc: 0.9290 - val_loss: 0.3421 - val_acc: 0.8842\n",
      "Epoch 6/20\n",
      "49/49 [==============================] - 1s 13ms/step - loss: 0.2429 - acc: 0.9320 - val_loss: 0.3484 - val_acc: 0.8817\n",
      "Epoch 7/20\n",
      "49/49 [==============================] - 1s 13ms/step - loss: 0.2343 - acc: 0.9378 - val_loss: 0.3458 - val_acc: 0.8840\n",
      "Epoch 8/20\n",
      "49/49 [==============================] - 1s 13ms/step - loss: 0.2299 - acc: 0.9384 - val_loss: 0.3538 - val_acc: 0.8805\n",
      "Epoch 9/20\n",
      "49/49 [==============================] - 1s 12ms/step - loss: 0.2257 - acc: 0.9385 - val_loss: 0.3587 - val_acc: 0.8804\n",
      "Epoch 10/20\n",
      "49/49 [==============================] - 1s 13ms/step - loss: 0.2216 - acc: 0.9416 - val_loss: 0.3633 - val_acc: 0.8782\n",
      "Epoch 11/20\n",
      "49/49 [==============================] - 1s 13ms/step - loss: 0.2190 - acc: 0.9419 - val_loss: 0.3654 - val_acc: 0.8773\n",
      "Epoch 12/20\n",
      "49/49 [==============================] - 1s 14ms/step - loss: 0.2159 - acc: 0.9436 - val_loss: 0.3710 - val_acc: 0.8771\n",
      "Epoch 13/20\n",
      "49/49 [==============================] - 1s 14ms/step - loss: 0.2104 - acc: 0.9450 - val_loss: 0.4130 - val_acc: 0.8640\n",
      "Epoch 14/20\n",
      "49/49 [==============================] - 1s 13ms/step - loss: 0.2109 - acc: 0.9439 - val_loss: 0.4119 - val_acc: 0.8646\n",
      "Epoch 15/20\n",
      "49/49 [==============================] - 1s 12ms/step - loss: 0.2061 - acc: 0.9449 - val_loss: 0.4057 - val_acc: 0.8678\n",
      "Epoch 16/20\n",
      "49/49 [==============================] - 1s 12ms/step - loss: 0.2049 - acc: 0.9464 - val_loss: 0.3898 - val_acc: 0.8733\n",
      "Epoch 17/20\n",
      "49/49 [==============================] - 1s 12ms/step - loss: 0.2019 - acc: 0.9474 - val_loss: 0.3941 - val_acc: 0.8720\n",
      "Epoch 18/20\n",
      "49/49 [==============================] - 1s 13ms/step - loss: 0.1968 - acc: 0.9494 - val_loss: 0.3991 - val_acc: 0.8705\n",
      "Epoch 19/20\n",
      "49/49 [==============================] - 1s 13ms/step - loss: 0.1957 - acc: 0.9491 - val_loss: 0.4064 - val_acc: 0.8696\n",
      "Epoch 20/20\n",
      "49/49 [==============================] - 1s 13ms/step - loss: 0.1920 - acc: 0.9511 - val_loss: 0.4461 - val_acc: 0.8595\n"
     ]
    }
   ],
   "source": [
    "l2_model_hist = l2_model.fit(x_train, y_train,\n",
    "                             epochs=20,\n",
    "                             batch_size=512,\n",
    "                             validation_data=(x_test, y_test))"
   ]
  },
  {
   "cell_type": "markdown",
   "metadata": {},
   "source": [
    "# Compare original model with regularized model"
   ]
  },
  {
   "cell_type": "code",
   "execution_count": 13,
   "metadata": {},
   "outputs": [
    {
     "data": {
      "image/png": "[encoded data removed]",
      "text/plain": [
       "<Figure size 432x288 with 1 Axes>"
      ]
     },
     "metadata": {
      "needs_background": "light"
     },
     "output_type": "display_data"
    }
   ],
   "source": [
    "l2_model_val_loss = l2_model_hist.history['val_loss']\n",
    "\n",
    "plt.plot(epochs, original_val_loss, 'b+', label='Original model')\n",
    "plt.plot(epochs, l2_model_val_loss, 'bo', label='L2-regularized model')\n",
    "plt.xlabel('Epochs')\n",
    "plt.ylabel('Validation loss')\n",
    "plt.legend()\n",
    "\n",
    "plt.show()"
   ]
  },
  {
   "cell_type": "markdown",
   "metadata": {},
   "source": [
    "# Add dropout"
   ]
  },
  {
   "cell_type": "code",
   "execution_count": 15,
   "metadata": {},
   "outputs": [],
   "source": [
    "dpt_model = models.Sequential()\n",
    "dpt_model.add(layers.Dense(16, activation='relu', input_shape=(10000,)))\n",
    "dpt_model.add(layers.Dropout(0.5))\n",
    "dpt_model.add(layers.Dense(16, activation='relu'))\n",
    "dpt_model.add(layers.Dropout(0.5))\n",
    "dpt_model.add(layers.Dense(1, activation='sigmoid'))\n",
    "\n",
    "dpt_model.compile(optimizer='rmsprop',\n",
    "                  loss='binary_crossentropy',\n",
    "                  metrics=['acc'])"
   ]
  },
  {
   "cell_type": "code",
   "execution_count": 16,
   "metadata": {},
   "outputs": [
    {
     "name": "stdout",
     "output_type": "stream",
     "text": [
      "Epoch 1/20\n",
      "49/49 [==============================] - 1s 26ms/step - loss: 0.6151 - acc: 0.6564 - val_loss: 0.4839 - val_acc: 0.8601\n",
      "Epoch 2/20\n",
      "49/49 [==============================] - 1s 13ms/step - loss: 0.4591 - acc: 0.8036 - val_loss: 0.3457 - val_acc: 0.8812\n",
      "Epoch 3/20\n",
      "49/49 [==============================] - 1s 12ms/step - loss: 0.3735 - acc: 0.8598 - val_loss: 0.3106 - val_acc: 0.8860\n",
      "Epoch 4/20\n",
      "49/49 [==============================] - 1s 12ms/step - loss: 0.3162 - acc: 0.8924 - val_loss: 0.2880 - val_acc: 0.8881\n",
      "Epoch 5/20\n",
      "49/49 [==============================] - 1s 13ms/step - loss: 0.2724 - acc: 0.9094 - val_loss: 0.2842 - val_acc: 0.8862\n",
      "Epoch 6/20\n",
      "49/49 [==============================] - 1s 12ms/step - loss: 0.2497 - acc: 0.9180 - val_loss: 0.2896 - val_acc: 0.8854\n",
      "Epoch 7/20\n",
      "49/49 [==============================] - 1s 12ms/step - loss: 0.2248 - acc: 0.9273 - val_loss: 0.3137 - val_acc: 0.8791\n",
      "Epoch 8/20\n",
      "49/49 [==============================] - 1s 13ms/step - loss: 0.2100 - acc: 0.9321 - val_loss: 0.3213 - val_acc: 0.8845\n",
      "Epoch 9/20\n",
      "49/49 [==============================] - 1s 13ms/step - loss: 0.1909 - acc: 0.9397 - val_loss: 0.3402 - val_acc: 0.8774\n",
      "Epoch 10/20\n",
      "49/49 [==============================] - 1s 13ms/step - loss: 0.1804 - acc: 0.9438 - val_loss: 0.3653 - val_acc: 0.8816\n",
      "Epoch 11/20\n",
      "49/49 [==============================] - 1s 13ms/step - loss: 0.1666 - acc: 0.9450 - val_loss: 0.3822 - val_acc: 0.8771\n",
      "Epoch 12/20\n",
      "49/49 [==============================] - 1s 13ms/step - loss: 0.1604 - acc: 0.9476 - val_loss: 0.4028 - val_acc: 0.8780\n",
      "Epoch 13/20\n",
      "49/49 [==============================] - 1s 13ms/step - loss: 0.1527 - acc: 0.9510 - val_loss: 0.4234 - val_acc: 0.8757\n",
      "Epoch 14/20\n",
      "49/49 [==============================] - 1s 13ms/step - loss: 0.1446 - acc: 0.9522 - val_loss: 0.4482 - val_acc: 0.8762\n",
      "Epoch 15/20\n",
      "49/49 [==============================] - 1s 13ms/step - loss: 0.1450 - acc: 0.9526 - val_loss: 0.4523 - val_acc: 0.8744\n",
      "Epoch 16/20\n",
      "49/49 [==============================] - 1s 13ms/step - loss: 0.1352 - acc: 0.9557 - val_loss: 0.4888 - val_acc: 0.8750\n",
      "Epoch 17/20\n",
      "49/49 [==============================] - 1s 13ms/step - loss: 0.1308 - acc: 0.9581 - val_loss: 0.4997 - val_acc: 0.8724\n",
      "Epoch 18/20\n",
      "49/49 [==============================] - 1s 12ms/step - loss: 0.1280 - acc: 0.9581 - val_loss: 0.5025 - val_acc: 0.8648\n",
      "Epoch 19/20\n",
      "49/49 [==============================] - 1s 13ms/step - loss: 0.1270 - acc: 0.9582 - val_loss: 0.5583 - val_acc: 0.8742\n",
      "Epoch 20/20\n",
      "49/49 [==============================] - 1s 13ms/step - loss: 0.1210 - acc: 0.9598 - val_loss: 0.5787 - val_acc: 0.8734\n"
     ]
    }
   ],
   "source": [
    "dpt_model_hist = dpt_model.fit(x_train, y_train,\n",
    "                               epochs=20,\n",
    "                               batch_size=512,\n",
    "                               validation_data=(x_test, y_test))"
   ]
  },
  {
   "cell_type": "markdown",
   "metadata": {},
   "source": [
    "# Compare with the original model"
   ]
  },
  {
   "cell_type": "code",
   "execution_count": 17,
   "metadata": {},
   "outputs": [
    {
     "data": {
      "image/png": "[encoded data removed]",
      "text/plain": [
       "<Figure size 432x288 with 1 Axes>"
      ]
     },
     "metadata": {
      "needs_background": "light"
     },
     "output_type": "display_data"
    }
   ],
   "source": [
    "dpt_model_val_loss = dpt_model_hist.history['val_loss']\n",
    "\n",
    "plt.plot(epochs, original_val_loss, 'b+', label='Original model')\n",
    "plt.plot(epochs, dpt_model_val_loss, 'bo', label='Dropout-regularized model')\n",
    "plt.xlabel('Epochs')\n",
    "plt.ylabel('Validation loss')\n",
    "plt.legend()\n",
    "\n",
    "plt.show()"
   ]
  },
  {
   "cell_type": "code",
   "execution_count": null,
   "metadata": {},
   "outputs": [],
   "source": []
  }
 ],
 "metadata": {
  "kernelspec": {
   "display_name": "Python 3",
   "language": "python",
   "name": "python3"
  },
  "language_info": {
   "codemirror_mode": {
    "name": "ipython",
    "version": 3
   },
   "file_extension": ".py",
   "mimetype": "text/x-python",
   "name": "python",
   "nbconvert_exporter": "python",
   "pygments_lexer": "ipython3",
   "version": "3.6.11"
  }
 },
 "nbformat": 4,
 "nbformat_minor": 4
}
